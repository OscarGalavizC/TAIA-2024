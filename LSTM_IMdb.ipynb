{
  "cells": [
    {
      "cell_type": "markdown",
      "metadata": {
        "id": "SgOAvzWNq7ib"
      },
      "source": [
        "<center>\n",
        "<p><img src=\"https://mcd.unison.mx/wp-content/themes/awaken/img/logo_mcd.png\" width=\"150\">\n",
        "</p>\n",
        "\n",
        "\n",
        "\n",
        "<h1>Curso Procesamiento de Lenguaje Natural</h1>\n",
        "\n",
        "<h3>LSTM con Keras, un flujo básico pero completo</h3>\n",
        "\n",
        "\n",
        "<p> Julio Waissman Vilanova </p>\n",
        "<p>\n",
        "<img src=\"https://identidadbuho.unison.mx/wp-content/uploads/2019/06/letragrama-cmyk-72.jpg\" width=\"150\">\n",
        "</p>\n",
        "\n",
        "\n",
        "<a target=\"_blank\" href=\"https://colab.research.google.com/github/mcd-unison/pln/blob/main/labs/RNN/LSTM-IMdb.ipynb\"><img src=\"https://i.ibb.co/2P3SLwK/colab.png\"  style=\"padding-bottom:5px;\"  width=\"30\" /> Ejecuta en Colab</a>\n",
        "\n",
        "<p>\n",
        "Tomado parcialmente y adaptado de varias libretas de la documentación de Keras\n",
        "</p>\n",
        "\n",
        "\n",
        "</center>"
      ]
    },
    {
      "cell_type": "code",
      "execution_count": null,
      "metadata": {
        "id": "_vXtKXZAq7id"
      },
      "outputs": [],
      "source": [
        "import re\n",
        "import string\n",
        "import numpy as np\n",
        "import tensorflow as tf\n",
        "from tensorflow import keras\n",
        "from tensorflow.keras import layers"
      ]
    },
    {
      "cell_type": "markdown",
      "metadata": {
        "id": "Z1V_n8cfq7ie"
      },
      "source": [
        "# Obteniendo datos\n",
        "\n",
        "Vamos a recuperar la base de datos globera de IMdb que se usa para probar casi todos los modelos. Vamos a recuperar los adatos de\n",
        "\n",
        "``https://ai.stanford.edu/~amaas/data/sentiment/aclImdb_v1.tar.gz``"
      ]
    },
    {
      "cell_type": "code",
      "execution_count": null,
      "metadata": {
        "id": "0fpu8dsUq7ie",
        "colab": {
          "base_uri": "https://localhost:8080/"
        },
        "outputId": "c4fe2480-816b-463b-9e91-700037e54ae9"
      },
      "outputs": [
        {
          "output_type": "stream",
          "name": "stdout",
          "text": [
            "  % Total    % Received % Xferd  Average Speed   Time    Time     Time  Current\n",
            "                                 Dload  Upload   Total   Spent    Left  Speed\n",
            "100 80.2M  100 80.2M    0     0  22.2M      0  0:00:03  0:00:03 --:--:-- 22.2M\n"
          ]
        }
      ],
      "source": [
        "!curl -O https://ai.stanford.edu/~amaas/data/sentiment/aclImdb_v1.tar.gz\n",
        "!tar -xf aclImdb_v1.tar.gz"
      ]
    },
    {
      "cell_type": "markdown",
      "metadata": {
        "id": "ruEYrTNmq7ie"
      },
      "source": [
        " y vamos a investigas la estructura y lo que hay..."
      ]
    },
    {
      "cell_type": "code",
      "execution_count": null,
      "metadata": {
        "id": "7MCSQTJoq7ie",
        "colab": {
          "base_uri": "https://localhost:8080/"
        },
        "outputId": "ea6ec647-9ca8-4559-aa06-4b11f2f8153a"
      },
      "outputs": [
        {
          "output_type": "stream",
          "name": "stdout",
          "text": [
            "imdbEr.txt  imdb.vocab\tREADME\ttest  train\n"
          ]
        }
      ],
      "source": [
        "!ls aclImdb"
      ]
    },
    {
      "cell_type": "code",
      "execution_count": null,
      "metadata": {
        "id": "UCjRzLiRq7ie",
        "colab": {
          "base_uri": "https://localhost:8080/"
        },
        "outputId": "aa1ad108-8a6d-47d7-a30d-39fe77df24cf"
      },
      "outputs": [
        {
          "output_type": "stream",
          "name": "stdout",
          "text": [
            "labeledBow.feat  neg  pos  urls_neg.txt  urls_pos.txt\n"
          ]
        }
      ],
      "source": [
        "!ls aclImdb/test"
      ]
    },
    {
      "cell_type": "code",
      "execution_count": null,
      "metadata": {
        "id": "0q3vMbtgq7if",
        "colab": {
          "base_uri": "https://localhost:8080/"
        },
        "outputId": "b584b126-0495-4412-fa50-b00af1aa4675"
      },
      "outputs": [
        {
          "output_type": "stream",
          "name": "stdout",
          "text": [
            "labeledBow.feat  neg  pos  unsup  unsupBow.feat  urls_neg.txt  urls_pos.txt  urls_unsup.txt\n"
          ]
        }
      ],
      "source": [
        "!ls aclImdb/train"
      ]
    },
    {
      "cell_type": "code",
      "execution_count": null,
      "metadata": {
        "id": "VghiyszZq7if",
        "colab": {
          "base_uri": "https://localhost:8080/"
        },
        "outputId": "80abbfb7-69c1-4988-e75b-0280cd5b722f"
      },
      "outputs": [
        {
          "output_type": "stream",
          "name": "stdout",
          "text": [
            "Being an Austrian myself this has been a straight knock in my face. Fortunately I don't live nowhere near the place where this movie takes place but unfortunately it portrays everything that the rest of Austria hates about Viennese people (or people close to that region). And it is very easy to read that this is exactly the directors intention: to let your head sink into your hands and say \"Oh my god, how can THAT be possible!\". No, not with me, the (in my opinion) totally exaggerated uncensored swinger club scene is not necessary, I watch porn, sure, but in this context I was rather disgusted than put in the right context.<br /><br />This movie tells a story about how misled people who suffer from lack of education or bad company try to survive and live in a world of redundancy and boring horizons. A girl who is treated like a whore by her super-jealous boyfriend (and still keeps coming back), a female teacher who discovers her masochism by putting the life of her super-cruel \"lover\" on the line, an old couple who has an almost mathematical daily cycle (she is the \"official replacement\" of his ex wife), a couple that has just divorced and has the ex husband suffer under the acts of his former wife obviously having a relationship with her masseuse and finally a crazy hitchhiker who asks her drivers the most unusual questions and stretches their nerves by just being super-annoying.<br /><br />After having seen it you feel almost nothing. You're not even shocked, sad, depressed or feel like doing anything... Maybe that's why I gave it 7 points, it made me react in a way I never reacted before. If that's good or bad is up to you!"
          ]
        }
      ],
      "source": [
        "!cat aclImdb/train/pos/6248_7.txt"
      ]
    },
    {
      "cell_type": "markdown",
      "metadata": {
        "id": "n14wrrspq7if"
      },
      "source": [
        "Solo nos interesan las evaluaciones positivas y negativas (para hacer una simple clasificación binaria y simplificar la aplicación), por lo que vamos a borrar el folder `unsup`:"
      ]
    },
    {
      "cell_type": "code",
      "execution_count": null,
      "metadata": {
        "id": "8oT04svfq7if"
      },
      "outputs": [],
      "source": [
        "!rm -r aclImdb/train/unsup"
      ]
    },
    {
      "cell_type": "markdown",
      "metadata": {
        "id": "jVZfCtA-q7if"
      },
      "source": [
        "Ahora si, vamos a usar las librerías de `Keras` para leer los datos usando [`keras.utils.text_dataset_from_directory`](https://www.tensorflow.org/api_docs/python/tf/keras/utils/text_dataset_from_directory).\n",
        "\n",
        "En este momento es donde tenemos que determinar el tamaño de los lotes."
      ]
    },
    {
      "cell_type": "code",
      "execution_count": null,
      "metadata": {
        "id": "iDyNlDiGq7ig",
        "colab": {
          "base_uri": "https://localhost:8080/"
        },
        "outputId": "7a4c3d22-b686-46fb-d022-8f048d82d061"
      },
      "outputs": [
        {
          "output_type": "stream",
          "name": "stdout",
          "text": [
            "Found 25000 files belonging to 2 classes.\n",
            "Using 20000 files for training.\n",
            "Found 25000 files belonging to 2 classes.\n",
            "Using 5000 files for validation.\n",
            "Found 25000 files belonging to 2 classes.\n"
          ]
        }
      ],
      "source": [
        "batch_size = 32         # Tamaño de los minibatches\n",
        "\n",
        "raw_train_ds = keras.utils.text_dataset_from_directory(\n",
        "    \"aclImdb/train\",\n",
        "    batch_size=batch_size,\n",
        "    validation_split=0.2,\n",
        "    subset=\"training\",\n",
        "    seed=1337,\n",
        ")\n",
        "raw_val_ds = tf.keras.utils.text_dataset_from_directory(\n",
        "    \"aclImdb/train\",\n",
        "    batch_size=batch_size,\n",
        "    validation_split=0.2,\n",
        "    subset=\"validation\",\n",
        "    seed=1337,\n",
        ")\n",
        "raw_test_ds = tf.keras.utils.text_dataset_from_directory(\n",
        "    \"aclImdb/test\", batch_size=batch_size\n",
        ")"
      ]
    },
    {
      "cell_type": "code",
      "execution_count": null,
      "metadata": {
        "id": "TFcNegZAq7ig",
        "colab": {
          "base_uri": "https://localhost:8080/"
        },
        "outputId": "8d4723a4-448c-46cf-bc3f-9e44568a3260"
      },
      "outputs": [
        {
          "output_type": "stream",
          "name": "stdout",
          "text": [
            "Numero de batches en raw_train_ds: 625\n",
            "Numero de batches en raw_val_ds: 157\n",
            "Numero de batches en raw_test_ds: 782\n"
          ]
        }
      ],
      "source": [
        "print(f\"Numero de batches en raw_train_ds: {raw_train_ds.cardinality()}\")\n",
        "print(f\"Numero de batches en raw_val_ds: {raw_val_ds.cardinality()}\")\n",
        "print(f\"Numero de batches en raw_test_ds: {raw_test_ds.cardinality()}\")"
      ]
    },
    {
      "cell_type": "markdown",
      "metadata": {
        "id": "pcTVXiA6q7ig"
      },
      "source": [
        "Es importante revisar los datos crudos para tener una idea de como se recuperaron y cual es la forma que tienen.\n",
        "\n",
        "Esto lo podemos hacer tomando algunos datos de cada batch e imprimiendolos:"
      ]
    },
    {
      "cell_type": "code",
      "execution_count": null,
      "metadata": {
        "id": "257dfiPOq7ig",
        "colab": {
          "base_uri": "https://localhost:8080/"
        },
        "outputId": "445e76ea-6c7e-42dd-c921-992e0e5f3a79"
      },
      "outputs": [
        {
          "output_type": "stream",
          "name": "stdout",
          "text": [
            "I've seen tons of science fiction from the 70s; some horrendously bad, and\n",
            "> others thought provoking and truly frightening. Soylent Green fits into the\n",
            "> latter category. Yes, at times it's a little campy, and yes, the furniture is\n",
            "> good for a giggle or two, but some of the film seems awfully prescient. Here\n",
            "> we have a film, 9 years before Blade Runner, that dares to imagine the future\n",
            "> as somthing dark, scary, and nihilistic. Both Charlton Heston and Edward G.\n",
            "> Robinson fare far better in this than The Ten Commandments, and Robinson's\n",
            "> assisted-suicide scene is creepily prescient of Kevorkian and his ilk. Some of\n",
            "> the attitudes are dated (can you imagine a filmmaker getting away with the\n",
            "> \"women as furniture\" concept in our oh-so-politically-correct-90s?), but it's\n",
            "> rare to find a film from the Me Decade that actually can make you think. This\n",
            "> is one I'd love to see on the big screen, because even in a widescreen\n",
            "> presentation, I don't think the overall scope of this film would receive its\n",
            "> due. Check it out.\n",
            "\n",
            "target = 1\n",
            "First than anything, I'm not going to praise Iñarritu's short film, even I'm\n",
            "> Mexican and proud of his success in mainstream Hollywood.<br /><br />In\n",
            "> another hand, I see most of the reviews focuses on their favorite (and not so)\n",
            "> short films; but we are forgetting that there is a subtle bottom line that\n",
            "> circles the whole compilation, and maybe it will not be so pleasant for\n",
            "> American people. (Even if that was not the main purpose of the producers) <br\n",
            "> /><br />What i'm talking about is that most of the short films does not show\n",
            "> the suffering that WASP people went through because the terrorist attack on\n",
            "> September 11th, but the suffering of the Other people.<br /><br />Do you need\n",
            "> proofs about what i'm saying? Look, in the Bosnia short film, the message is:\n",
            "> \"You cry because of the people who died in the Towers, but we (The Others =\n",
            "> East Europeans) are crying long ago for the crimes committed against our women\n",
            "> and nobody pay attention to us like the whole world has done to you\".<br /><br\n",
            "> />Even though the Burkina Fasso story is more in comedy, there is a the same\n",
            "> thought: \"You are angry because Osama Bin Laden punched you in an evil way,\n",
            "> but we (The Others = Africans) should be more angry, because our people is\n",
            "> dying of hunger, poverty and AIDS long time ago, and nobody pay attention to\n",
            "> us like the whole world has done to you\".<br /><br />Look now at the Sean Penn\n",
            "> short: The fall of the Twin Towers makes happy to a lonely (and alienated)\n",
            "> man. So the message is that the Power and the Greed (symbolized by the Towers)\n",
            "> must fall for letting the people see the sun rise and the flowers blossom? It\n",
            "> is remarkable that this terrible bottom line has been proposed by an American.\n",
            "> There is so much irony in this short film that it is close to be\n",
            "> subversive.<br /><br />Well, the Ken Loach (very know because his anti-\n",
            "> capitalism ideology) is much more clearly and shameless in going straight to\n",
            "> the point: \"You are angry because your country has been attacked by evil\n",
            "> forces, but we (The Others = Latin Americans) suffered at a similar date\n",
            "> something worst, and nobody remembers our grief as the whole world has done to\n",
            "> you\".<br /><br />It is like if the creative of this project wanted to say to\n",
            "> Americans: \"You see now, America? You are not the only that have become victim\n",
            "> of the world violence, you are not alone in your pain and by the way, we (the\n",
            "> Others = the Non Americans) have been suffering a lot more than you from long\n",
            "> time ago; so, we are in solidarity with you in your pain... and by the way, we\n",
            "> are sorry because you have had some taste of your own medicine\" Only the\n",
            "> Mexican and the French short films showed some compassion and sympathy for\n",
            "> American people; the others are like a slap on the face for the American\n",
            "> State, that is not equal to American People.\n",
            "\n",
            "target = 1\n",
            "Blood Castle (aka Scream of the Demon Lover, Altar of Blood, Ivanna--the best,\n",
            "> but least exploitation cinema-sounding title, and so on) is a very traditional\n",
            "> Gothic Romance film. That means that it has big, creepy castles, a headstrong\n",
            "> young woman, a mysterious older man, hints of horror and the supernatural, and\n",
            "> romance elements in the contemporary sense of that genre term. It also means\n",
            "> that it is very deliberately paced, and that the film will work best for\n",
            "> horror mavens who are big fans of understatement. If you love films like\n",
            "> Robert Wise's The Haunting (1963), but you also have a taste for late\n",
            "> 1960s/early 1970s Spanish and Italian horror, you may love Blood Castle, as\n",
            "> well.<br /><br />Baron Janos Dalmar (Carlos Quiney) lives in a large castle on\n",
            "> the outskirts of a traditional, unspecified European village. The locals fear\n",
            "> him because legend has it that whenever he beds a woman, she soon after ends\n",
            "> up dead--the consensus is that he sets his ferocious dogs on them. This is\n",
            "> quite a problem because the Baron has a very healthy appetite for women. At\n",
            "> the beginning of the film, yet another woman has turned up dead and\n",
            "> mutilated.<br /><br />Meanwhile, Dr. Ivanna Rakowsky (Erna Schürer) has\n",
            "> appeared in the center of the village, asking to be taken to Baron Dalmar's\n",
            "> castle. She's an out-of-towner who has been hired by the Baron for her\n",
            "> expertise in chemistry. Of course, no one wants to go near the castle.\n",
            "> Finally, Ivanna finds a shady individual (who becomes even shadier) to take\n",
            "> her. Once there, an odd woman who lives in the castle, Olga (Cristiana\n",
            "> Galloni), rejects Ivanna and says that she shouldn't be there since she's a\n",
            "> woman. Baron Dalmar vacillates over whether she should stay. She ends up\n",
            "> staying, but somewhat reluctantly. The Baron has hired her to try to reverse\n",
            "> the effects of severe burns, which the Baron's brother, Igor, is suffering\n",
            "> from.<br /><br />Unfortunately, the Baron's brother appears to be just a lump\n",
            "> of decomposing flesh in a vat of bizarre, blackish liquid. And furthermore,\n",
            "> Ivanna is having bizarre, hallucinatory dreams. Just what is going on at the\n",
            "> castle? Is the Baron responsible for the crimes? Is he insane? <br /><br />I\n",
            "> wanted to like Blood Castle more than I did. As I mentioned, the film is very\n",
            "> deliberate in its pacing, and most of it is very understated. I can go either\n",
            "> way on material like that. I don't care for The Haunting (yes, I'm in a very\n",
            "> small minority there), but I'm a big fan of 1960s and 1970s European horror.\n",
            "> One of my favorite directors is Mario Bava. I also love Dario Argento's work\n",
            "> from that period. But occasionally, Blood Castle moved a bit too slow for me\n",
            "> at times. There are large chunks that amount to scenes of not very exciting\n",
            "> talking alternated with scenes of Ivanna slowly walking the corridors of the\n",
            "> castle.<br /><br />But the atmosphere of the film is decent. Director José\n",
            "> Luis Merino managed more than passable sets and locations, and they're shot\n",
            "> fairly well by Emanuele Di Cola. However, Blood Castle feels relatively low\n",
            "> budget, and this is a Roger Corman-produced film, after all (which usually\n",
            "> means a low-budget, though often surprisingly high quality \"quickie\"). So\n",
            "> while there is a hint of the lushness of Bava's colors and complex set\n",
            "> decoration, everything is much more minimalist. Of course, it doesn't help\n",
            "> that the Retromedia print I watched looks like a 30-year old photograph that's\n",
            "> been left out in the sun too long. It appears \"washed out\", with compromised\n",
            "> contrast.<br /><br />Still, Merino and Di Cola occasionally set up fantastic\n",
            "> visuals. For example, a scene of Ivanna walking in a darkened hallway that's\n",
            "> shot from an exaggerated angle, and where an important plot element is\n",
            "> revealed through shadows on a wall only. There are also a couple Ingmar\n",
            "> Bergmanesque shots, where actors are exquisitely blocked to imply complex\n",
            "> relationships, besides just being visually attractive and pulling your eye\n",
            "> deep into the frame.<br /><br />The performances are fairly good, and the\n",
            "> women--especially Schürer--are very attractive. Merino exploits this fact by\n",
            "> incorporating a decent amount of nudity. Schürer went on to do a number of\n",
            "> films that were as much soft corn porn as they were other genres, with English\n",
            "> titles such as Sex Life in a Woman's Prison (1974), Naked and Lustful (1974),\n",
            "> Strip Nude for Your Killer (1975) and Erotic Exploits of a Sexy Seducer\n",
            "> (1977). Blood Castle is much tamer, but in addition to the nudity, there are\n",
            "> still mild scenes suggesting rape and bondage, and of course the scenes mixing\n",
            "> sex and death.<br /><br />The primary attraction here, though, is probably the\n",
            "> story, which is much a slow-burning romance as anything else. The horror\n",
            "> elements, the mystery elements, and a somewhat unexpected twist near the end\n",
            "> are bonuses, but in the end, Blood Castle is a love story, about a couple\n",
            "> overcoming various difficulties and antagonisms (often with physical threats\n",
            "> or harms) to be together.\n",
            "\n",
            "target = 1\n",
            "I was talked into watching this movie by a friend who blubbered on about what a\n",
            "> cute story this was.<br /><br />Yuck.<br /><br />I want my two hours back, as\n",
            "> I could have done SO many more productive things with my time...like, for\n",
            "> instance, twiddling my thumbs. I see nothing redeeming about this film at all,\n",
            "> save for the eye-candy aspect of it...<br /><br />3/10 (and that's being\n",
            "> generous)\n",
            "\n",
            "target = 0\n",
            "Michelle Rodriguez is the defining actress who could be the charging force for\n",
            "> other actresses to look out for. She has the audacity to place herself in a\n",
            "> rarely seen tough-girl role very early in her career (and pull it off), which\n",
            "> is a feat that should be recognized. Although her later films pigeonhole her\n",
            "> to that same role, this film was made for her ruggedness.<br /><br />Her\n",
            "> character is a romanticized student/fighter/lover, struggling to overcome her\n",
            "> disenchanted existence in the projects, which is a little overdone in\n",
            "> film...but not by a girl. That aspect of this film isn't very original, but\n",
            "> the story goes in depth when the heated relationships that this girl has to\n",
            "> deal with come to a boil and her primal rage takes over.<br /><br />I haven't\n",
            "> seen an actress take such an aggressive stance in movie-making yet, and I'm\n",
            "> glad that she's getting that original twist out there in Hollywood. This film\n",
            "> got a 7 from me because of the average story of ghetto youth, but it has such\n",
            "> a great actress portraying a rarely-seen role in a minimal budget movie. Great\n",
            "> work.\n",
            "\n",
            "target = 1\n"
          ]
        }
      ],
      "source": [
        "import textwrap\n",
        "\n",
        "for text_batch, label_batch in raw_train_ds.take(1):\n",
        "    for i in range(5):\n",
        "        print(textwrap.fill(text_batch.numpy()[i].decode(\"utf-8\"), 80, subsequent_indent='> '))\n",
        "        print(\"\\ntarget =\", label_batch.numpy()[i])"
      ]
    },
    {
      "cell_type": "markdown",
      "metadata": {
        "id": "Rktv2E2cq7ig"
      },
      "source": [
        "## Preparando los datos\n",
        "\n",
        "Vamos ahora a convertir cada string de datos en una serie de índices numéricos, los cuales puedan entrar en\n",
        "un modelo neuronal. Para esto, vamos a generar índices a partir de las palabras existentesd en el texto.\n",
        "\n",
        "Este métdo puede ser no el mejor, ya que el vocabulario se fija en relación al vocabulario encontrado en el\n",
        "conjunto de aprendizaje. Más adelante veremos mñetodos más sofisticados para hacer la indezación, o como\n",
        "usar un vocabulario indexado ya preestablecido.\n",
        "\n",
        "Por el momento vamos primero a especificar el proceso de limpieza de texto (preprocesamiento) el cual será muy sencillo para este ejemplo y consiste en:\n",
        "\n",
        "1. Convertir a minúsculas todas las letras\n",
        "2. Eliminar los saltos de linea en formato *html* ( `<br /> `)\n",
        "3. Eliminar los signos de puntuación\n",
        "\n",
        "Igualmente, vamos a generar los minibatches con secuencias de `sequence_length` palabras. Esto es, si es insuficiente, se trunca el texto y si es\n",
        "demasiado, se completa el texto con 0's. De esa manera, todos los modelos aprenden con secuencias del mismo tamaño.\n",
        "\n",
        "Se utilizan hasta `max_features` tokens diferentes. De haber más, estos se eliminan en función de su frecuencia.\n",
        "\n",
        "Para esto vamos a utilizar la capa de `Keras` de [`layers.TextVectorization`](https://keras.io/api/layers/preprocessing_layers/text/text_vectorization/)"
      ]
    },
    {
      "cell_type": "code",
      "execution_count": null,
      "metadata": {
        "id": "t75uK5L9q7ih"
      },
      "outputs": [],
      "source": [
        "# Model constants.\n",
        "max_features = 20000\n",
        "sequence_length = 500\n",
        "\n",
        "# Preprocesamiento\n",
        "@keras.saving.register_keras_serializable()\n",
        "def custom_standardization(input_data):\n",
        "    lowercase = tf.strings.lower(input_data)\n",
        "    stripped_html = tf.strings.regex_replace(lowercase, \"<br />\", \" \")\n",
        "    return tf.strings.regex_replace(\n",
        "        stripped_html, f\"[{re.escape(string.punctuation)}]\", \"\"\n",
        "    )\n",
        "\n",
        "\n",
        "# Capa de vectorización (encontrar los índices por palabra)\n",
        "vectorize_layer = layers.TextVectorization(\n",
        "    standardize=custom_standardization,\n",
        "    max_tokens=max_features,\n",
        "    output_mode=\"int\",\n",
        "    output_sequence_length=sequence_length,\n",
        ")\n",
        "\n",
        "# Now that the vectorize_layer has been created, call `adapt` on a text-only\n",
        "# dataset to create the vocabulary. You don't have to batch, but for very large\n",
        "# datasets this means you're not keeping spare copies of the dataset in memory.\n",
        "\n",
        "# Let's make a text-only dataset (no labels):\n",
        "text_ds = raw_train_ds.map(lambda x, y: x)\n",
        "\n",
        "# Let's call `adapt`:\n",
        "vectorize_layer.adapt(text_ds)"
      ]
    },
    {
      "cell_type": "code",
      "execution_count": null,
      "metadata": {
        "id": "UbhtT406q7ih"
      },
      "outputs": [],
      "source": [
        "def vectorize_text(text, label):\n",
        "    text = tf.expand_dims(text, -1)\n",
        "    return vectorize_layer(text), label"
      ]
    },
    {
      "cell_type": "code",
      "execution_count": null,
      "metadata": {
        "id": "EkbViAEiq7ih"
      },
      "outputs": [],
      "source": [
        "# Vectorize the data.\n",
        "train_ds = raw_train_ds.map(vectorize_text)\n",
        "val_ds = raw_val_ds.map(vectorize_text)\n",
        "test_ds = raw_test_ds.map(vectorize_text)"
      ]
    },
    {
      "cell_type": "code",
      "execution_count": null,
      "metadata": {
        "id": "v298LZo7q7ii"
      },
      "outputs": [],
      "source": [
        "# Do async prefetching / buffering of the data for best performance on GPU.\n",
        "train_ds = train_ds.cache().prefetch(buffer_size=10)\n",
        "val_ds = val_ds.cache().prefetch(buffer_size=10)\n",
        "test_ds = test_ds.cache().prefetch(buffer_size=10)"
      ]
    },
    {
      "cell_type": "code",
      "execution_count": null,
      "metadata": {
        "id": "OIeIl8Boq7ii",
        "colab": {
          "base_uri": "https://localhost:8080/"
        },
        "outputId": "80da78f6-f62b-47fb-9242-ead034109f89"
      },
      "outputs": [
        {
          "output_type": "stream",
          "name": "stdout",
          "text": [
            "Donde se guardan los datos de entrenamiento\n",
            "train_ds.cardinality() =  tf.Tensor(625, shape=(), dtype=int64)\n",
            "\n",
            "Y un minibatch se representa de esta manera: \n",
            "\n",
            "(<tf.Tensor: shape=(32, 500), dtype=int64, numpy=\n",
            "array([[ 132, 1720,    1, ...,    0,    0,    0],\n",
            "       [  11, 1108,   10, ...,    0,    0,    0],\n",
            "       [1305,  358,  113, ...,    0,    0,    0],\n",
            "       ...,\n",
            "       [   2,  501,  166, ...,   18,    9,    1],\n",
            "       [  10,   17,    7, ...,    0,    0,    0],\n",
            "       [  88,  120,   33, ...,    0,    0,    0]])>, <tf.Tensor: shape=(32,), dtype=int32, numpy=\n",
            "array([1, 0, 1, 0, 1, 1, 1, 1, 0, 1, 1, 1, 0, 0, 0, 0, 0, 0, 0, 1, 1, 1,\n",
            "       0, 1, 0, 0, 1, 1, 0, 1, 1, 1], dtype=int32)>)\n"
          ]
        }
      ],
      "source": [
        "print(\"Donde se guardan los datos de entrenamiento\")\n",
        "print(\"train_ds.cardinality() = \", train_ds.cardinality())\n",
        "\n",
        "ejemplo = train_ds.take(1)\n",
        "\n",
        "print(\"\\nY un minibatch se representa de esta manera: \\n\")\n",
        "print(ejemplo.get_single_element())"
      ]
    },
    {
      "cell_type": "markdown",
      "metadata": {
        "id": "82MKPMZTq7ii"
      },
      "source": [
        "## Modelo basado en LSTM multicapa\n",
        "\n",
        "Vamos a hacer un modelo multicapa, el cual seguramente requerirá de ajustes de su parte.\n",
        "\n",
        "Vamos a utilizar la forma funcional de definir un modelo neuronal:"
      ]
    },
    {
      "cell_type": "code",
      "execution_count": null,
      "metadata": {
        "id": "PvR_Z9nzq7ii",
        "colab": {
          "base_uri": "https://localhost:8080/"
        },
        "outputId": "64802b9b-811c-45ea-bd28-de35093e1365"
      },
      "outputs": [
        {
          "output_type": "stream",
          "name": "stdout",
          "text": [
            "Model: \"model_1\"\n",
            "_________________________________________________________________\n",
            " Layer (type)                Output Shape              Param #   \n",
            "=================================================================\n",
            " input_2 (InputLayer)        [(None, None)]            0         \n",
            "                                                                 \n",
            " embedding_1 (Embedding)     (None, None, 128)         2560000   \n",
            "                                                                 \n",
            " lstm_2 (LSTM)               (None, None, 128)         131584    \n",
            "                                                                 \n",
            " lstm_3 (LSTM)               (None, 128)               131584    \n",
            "                                                                 \n",
            " predictions (Dense)         (None, 1)                 129       \n",
            "                                                                 \n",
            "=================================================================\n",
            "Total params: 2823297 (10.77 MB)\n",
            "Trainable params: 2823297 (10.77 MB)\n",
            "Non-trainable params: 0 (0.00 Byte)\n",
            "_________________________________________________________________\n"
          ]
        }
      ],
      "source": [
        "emb = 128               # Embedding size\n",
        "unidades = 128          # Hidden units per layer\n",
        "\n",
        "\n",
        "# Entrada en indices\n",
        "inputs = keras.Input(shape=(None,), dtype=\"int64\")\n",
        "\n",
        "# Capa de embeddings\n",
        "x = layers.Embedding(max_features, emb)(inputs)\n",
        "\n",
        "# Dos capas de LSTMs\n",
        "x = layers.LSTM(unidades, return_sequences=True)(x)\n",
        "x = layers.LSTM(unidades)(x)\n",
        "\n",
        "# Salida\n",
        "predictions = layers.Dense(1, activation=\"sigmoid\", name=\"predictions\")(x)\n",
        "\n",
        "model = keras.Model(inputs, predictions)\n",
        "model.summary()"
      ]
    },
    {
      "cell_type": "markdown",
      "metadata": {
        "id": "jS52CDtHq7ii"
      },
      "source": [
        "Compilamos y ponemos a aprender el modelo (usando BPTT en forma automñatica)"
      ]
    },
    {
      "cell_type": "code",
      "execution_count": null,
      "metadata": {
        "id": "FXmTqqRhq7ii",
        "colab": {
          "base_uri": "https://localhost:8080/"
        },
        "outputId": "2113e06a-5461-406f-b443-2a0cd071cca4"
      },
      "outputs": [
        {
          "output_type": "stream",
          "name": "stdout",
          "text": [
            "Epoch 1/15\n",
            "625/625 [==============================] - 69s 105ms/step - loss: 0.6923 - accuracy: 0.5091 - val_loss: 0.6928 - val_accuracy: 0.5042\n",
            "Epoch 2/15\n",
            "625/625 [==============================] - 26s 41ms/step - loss: 0.6893 - accuracy: 0.5245 - val_loss: 0.6939 - val_accuracy: 0.5048\n",
            "Epoch 3/15\n",
            "625/625 [==============================] - 25s 40ms/step - loss: 0.6816 - accuracy: 0.5253 - val_loss: 0.7045 - val_accuracy: 0.4994\n",
            "Epoch 4/15\n",
            "625/625 [==============================] - 25s 40ms/step - loss: 0.6514 - accuracy: 0.5416 - val_loss: 0.7331 - val_accuracy: 0.4992\n",
            "Epoch 5/15\n",
            "625/625 [==============================] - 25s 40ms/step - loss: 0.6446 - accuracy: 0.5481 - val_loss: 0.7470 - val_accuracy: 0.5022\n",
            "Epoch 6/15\n",
            "625/625 [==============================] - 24s 39ms/step - loss: 0.6394 - accuracy: 0.5446 - val_loss: 0.7663 - val_accuracy: 0.5016\n",
            "Epoch 7/15\n",
            "625/625 [==============================] - 25s 40ms/step - loss: 0.6378 - accuracy: 0.5454 - val_loss: 0.7777 - val_accuracy: 0.5022\n",
            "Epoch 8/15\n",
            "625/625 [==============================] - 24s 39ms/step - loss: 0.6386 - accuracy: 0.5459 - val_loss: 0.7760 - val_accuracy: 0.5008\n",
            "Epoch 9/15\n",
            "625/625 [==============================] - 24s 39ms/step - loss: 0.6452 - accuracy: 0.5421 - val_loss: 0.7499 - val_accuracy: 0.4970\n",
            "Epoch 10/15\n",
            "625/625 [==============================] - 24s 39ms/step - loss: 0.6441 - accuracy: 0.5436 - val_loss: 0.7958 - val_accuracy: 0.5004\n",
            "Epoch 11/15\n",
            "625/625 [==============================] - 24s 39ms/step - loss: 0.6379 - accuracy: 0.5491 - val_loss: 0.8192 - val_accuracy: 0.5010\n",
            "Epoch 12/15\n",
            "625/625 [==============================] - 27s 43ms/step - loss: 0.6354 - accuracy: 0.5491 - val_loss: 0.8363 - val_accuracy: 0.5018\n",
            "Epoch 13/15\n",
            "625/625 [==============================] - 25s 40ms/step - loss: 0.6498 - accuracy: 0.5436 - val_loss: 0.7734 - val_accuracy: 0.5018\n",
            "Epoch 14/15\n",
            "625/625 [==============================] - 24s 39ms/step - loss: 0.6397 - accuracy: 0.5429 - val_loss: 0.8006 - val_accuracy: 0.5014\n",
            "Epoch 15/15\n",
            "625/625 [==============================] - 25s 40ms/step - loss: 0.6374 - accuracy: 0.5446 - val_loss: 0.8125 - val_accuracy: 0.5016\n"
          ]
        },
        {
          "output_type": "execute_result",
          "data": {
            "text/plain": [
              "<keras.src.callbacks.History at 0x78a6787f2fe0>"
            ]
          },
          "metadata": {},
          "execution_count": 22
        }
      ],
      "source": [
        "model.compile(\n",
        "    \"adam\",\n",
        "    \"binary_crossentropy\",\n",
        "    metrics=[\"accuracy\"]\n",
        ")\n",
        "\n",
        "model.fit(\n",
        "    train_ds,\n",
        "    validation_data=val_ds,\n",
        "    epochs=15\n",
        ")"
      ]
    },
    {
      "cell_type": "markdown",
      "metadata": {
        "id": "fTuCk29mq7ij"
      },
      "source": [
        "Y probamos con los datos de test"
      ]
    },
    {
      "cell_type": "code",
      "execution_count": null,
      "metadata": {
        "id": "irCZ95Bwq7ij",
        "colab": {
          "base_uri": "https://localhost:8080/"
        },
        "outputId": "345d299c-298a-4d8f-dcf0-f90619e640dc"
      },
      "outputs": [
        {
          "output_type": "stream",
          "name": "stdout",
          "text": [
            "782/782 [==============================] - 15s 19ms/step - loss: 0.7980 - accuracy: 0.4997\n"
          ]
        },
        {
          "output_type": "execute_result",
          "data": {
            "text/plain": [
              "[0.7980202436447144, 0.4996800124645233]"
            ]
          },
          "metadata": {},
          "execution_count": 23
        }
      ],
      "source": [
        "model.evaluate(test_ds)"
      ]
    },
    {
      "cell_type": "markdown",
      "metadata": {
        "id": "eABmtDvhq7ij"
      },
      "source": [
        "Y ahora vamos a probar con bi-LSTM, haciendo un poco más complicado (aunque no mucho) el código"
      ]
    },
    {
      "cell_type": "code",
      "execution_count": null,
      "metadata": {
        "id": "s1mp9g8dq7ij",
        "colab": {
          "base_uri": "https://localhost:8080/"
        },
        "outputId": "5ca956c4-8b58-4eaa-a5be-0cb753c3c621"
      },
      "outputs": [
        {
          "output_type": "stream",
          "name": "stdout",
          "text": [
            "Model: \"model_4\"\n",
            "_________________________________________________________________\n",
            " Layer (type)                Output Shape              Param #   \n",
            "=================================================================\n",
            " input_5 (InputLayer)        [(None, None)]            0         \n",
            "                                                                 \n",
            " embedding_4 (Embedding)     (None, None, 128)         2560000   \n",
            "                                                                 \n",
            " bidirectional_2 (Bidirecti  (None, None, 256)         263168    \n",
            " onal)                                                           \n",
            "                                                                 \n",
            " bidirectional_3 (Bidirecti  (None, 256)               394240    \n",
            " onal)                                                           \n",
            "                                                                 \n",
            " dense_2 (Dense)             (None, 128)               32896     \n",
            "                                                                 \n",
            " predictions (Dense)         (None, 1)                 129       \n",
            "                                                                 \n",
            "=================================================================\n",
            "Total params: 3250433 (12.40 MB)\n",
            "Trainable params: 3250433 (12.40 MB)\n",
            "Non-trainable params: 0 (0.00 Byte)\n",
            "_________________________________________________________________\n"
          ]
        }
      ],
      "source": [
        "emb = 128\n",
        "unidades = 128\n",
        "\n",
        "# Input\n",
        "inputs = keras.Input(shape=(None,), dtype=\"int32\")\n",
        "\n",
        "# Capa de embeddings\n",
        "x = layers.Embedding(max_features, emb)(inputs)\n",
        "\n",
        "# bi-LSTMs\n",
        "x = layers.Bidirectional(\n",
        "    layers.LSTM(unidades, return_sequences=True)\n",
        ")(x)\n",
        "x = layers.Bidirectional(\n",
        "    layers.LSTM(unidades)\n",
        ")(x)\n",
        "\n",
        "# Vanilla hidden layer:\n",
        "x = layers.Dense(unidades, activation=\"relu\")(x)\n",
        "\n",
        "# Salida\n",
        "predictions = layers.Dense(1, activation=\"sigmoid\", name=\"predictions\")(x)\n",
        "\n",
        "model_bi = keras.Model(inputs, predictions)\n",
        "model_bi.summary()"
      ]
    },
    {
      "cell_type": "code",
      "execution_count": null,
      "metadata": {
        "id": "TRc8o7aSq7ij",
        "colab": {
          "base_uri": "https://localhost:8080/"
        },
        "outputId": "699221ff-518d-4557-c3de-7416f3234491"
      },
      "outputs": [
        {
          "output_type": "stream",
          "name": "stdout",
          "text": [
            "Epoch 1/10\n",
            "625/625 [==============================] - 98s 145ms/step - loss: 0.5647 - accuracy: 0.7197 - val_loss: 0.5991 - val_accuracy: 0.6988\n",
            "Epoch 2/10\n",
            "625/625 [==============================] - 49s 78ms/step - loss: 0.4174 - accuracy: 0.8120 - val_loss: 0.3488 - val_accuracy: 0.8472\n",
            "Epoch 3/10\n",
            "625/625 [==============================] - 48s 77ms/step - loss: 0.3549 - accuracy: 0.8493 - val_loss: 0.3611 - val_accuracy: 0.8562\n",
            "Epoch 4/10\n",
            "625/625 [==============================] - 48s 77ms/step - loss: 0.2134 - accuracy: 0.9188 - val_loss: 0.3495 - val_accuracy: 0.8460\n",
            "Epoch 5/10\n",
            "625/625 [==============================] - 48s 77ms/step - loss: 0.1502 - accuracy: 0.9469 - val_loss: 0.4027 - val_accuracy: 0.8540\n",
            "Epoch 6/10\n",
            "625/625 [==============================] - 48s 77ms/step - loss: 0.1027 - accuracy: 0.9663 - val_loss: 0.4220 - val_accuracy: 0.8550\n",
            "Epoch 7/10\n",
            "625/625 [==============================] - 49s 78ms/step - loss: 0.0750 - accuracy: 0.9764 - val_loss: 0.4305 - val_accuracy: 0.8686\n",
            "Epoch 8/10\n",
            "625/625 [==============================] - 49s 78ms/step - loss: 0.0545 - accuracy: 0.9832 - val_loss: 0.4575 - val_accuracy: 0.8610\n",
            "Epoch 9/10\n",
            "625/625 [==============================] - 48s 76ms/step - loss: 0.0437 - accuracy: 0.9861 - val_loss: 0.5077 - val_accuracy: 0.8620\n",
            "Epoch 10/10\n",
            "625/625 [==============================] - 48s 77ms/step - loss: 0.0321 - accuracy: 0.9902 - val_loss: 0.5681 - val_accuracy: 0.8670\n"
          ]
        },
        {
          "output_type": "execute_result",
          "data": {
            "text/plain": [
              "<keras.src.callbacks.History at 0x78a6a7f2b160>"
            ]
          },
          "metadata": {},
          "execution_count": 31
        }
      ],
      "source": [
        "model_bi.compile(\n",
        "    \"adam\",\n",
        "    \"binary_crossentropy\",\n",
        "    metrics=[\"accuracy\"]\n",
        ")\n",
        "\n",
        "model_bi.fit(\n",
        "    train_ds,\n",
        "    validation_data=val_ds,\n",
        "    epochs=10\n",
        ")"
      ]
    },
    {
      "cell_type": "code",
      "execution_count": null,
      "metadata": {
        "id": "rOajCpxKq7ij",
        "colab": {
          "base_uri": "https://localhost:8080/"
        },
        "outputId": "92f4ba5f-97c1-4d71-c081-976b881e81ea"
      },
      "outputs": [
        {
          "output_type": "stream",
          "name": "stdout",
          "text": [
            "782/782 [==============================] - 23s 29ms/step - loss: 0.6635 - accuracy: 0.8422\n"
          ]
        },
        {
          "output_type": "execute_result",
          "data": {
            "text/plain": [
              "[0.6635410189628601, 0.842199981212616]"
            ]
          },
          "metadata": {},
          "execution_count": 32
        }
      ],
      "source": [
        "model_bi.evaluate(test_ds)"
      ]
    },
    {
      "cell_type": "markdown",
      "metadata": {
        "id": "YR59eRjtq7ik"
      },
      "source": [
        "## Modelo por convolucionales de 1 dimensión\n",
        "\n",
        "Este modelo viene como modelo de base en Keras, y es un buen inicio para ver como usar convolucionales como modelos para PLN.\n",
        "\n"
      ]
    },
    {
      "cell_type": "code",
      "execution_count": null,
      "metadata": {
        "id": "PdJp4gp8q7ik"
      },
      "outputs": [],
      "source": [
        "emb = 128\n",
        "unidades = 128\n",
        "ventana = 7\n",
        "drop= 0.5\n",
        "\n",
        "# Entrada\n",
        "inputs = tf.keras.Input(shape=(None,), dtype=\"int64\")\n",
        "\n",
        "# Capa de embeddings\n",
        "x = layers.Embedding(max_features, emb)(inputs)\n",
        "x = layers.Dropout(drop)(x)\n",
        "\n",
        "# Conv1D + global max pooling\n",
        "x = layers.Conv1D(\n",
        "    unidades,\n",
        "    ventana,\n",
        "    padding=\"valid\",\n",
        "    activation=\"relu\",\n",
        "    strides=3\n",
        ")(x)\n",
        "x = layers.Conv1D(\n",
        "    unidades,\n",
        "    ventana,\n",
        "    padding=\"valid\",\n",
        "    activation=\"relu\",\n",
        "    strides=3\n",
        ")(x)\n",
        "x = layers.GlobalMaxPooling1D()(x)\n",
        "\n",
        "# Vanilla hidden layer:\n",
        "x = layers.Dense(unidades, activation=\"relu\")(x)\n",
        "x = layers.Dropout(drop)(x)\n",
        "\n",
        "# Salida\n",
        "predictions = layers.Dense(1, activation=\"sigmoid\", name=\"predictions\")(x)\n",
        "\n",
        "model_conv1d = tf.keras.Model(inputs, predictions)"
      ]
    },
    {
      "cell_type": "code",
      "execution_count": null,
      "metadata": {
        "id": "HWifwil0q7ik",
        "colab": {
          "base_uri": "https://localhost:8080/"
        },
        "outputId": "cb993b5e-fff7-4e7a-9269-e43ccf2d163c"
      },
      "outputs": [
        {
          "output_type": "stream",
          "name": "stdout",
          "text": [
            "Epoch 1/15\n",
            "625/625 [==============================] - 25s 40ms/step - loss: 0.6366 - accuracy: 0.5479 - val_loss: 0.8124 - val_accuracy: 0.5004\n",
            "Epoch 2/15\n",
            "625/625 [==============================] - 24s 38ms/step - loss: 0.6354 - accuracy: 0.5479 - val_loss: 0.8615 - val_accuracy: 0.4998\n",
            "Epoch 3/15\n",
            "625/625 [==============================] - 25s 39ms/step - loss: 0.6358 - accuracy: 0.5543 - val_loss: 0.8185 - val_accuracy: 0.5020\n",
            "Epoch 4/15\n",
            "625/625 [==============================] - 24s 39ms/step - loss: 0.6332 - accuracy: 0.5573 - val_loss: 0.8465 - val_accuracy: 0.5070\n",
            "Epoch 5/15\n",
            "625/625 [==============================] - 24s 39ms/step - loss: 0.6277 - accuracy: 0.5868 - val_loss: 0.7985 - val_accuracy: 0.5048\n",
            "Epoch 6/15\n",
            "625/625 [==============================] - 24s 38ms/step - loss: 0.6349 - accuracy: 0.5512 - val_loss: 0.8132 - val_accuracy: 0.5648\n",
            "Epoch 7/15\n",
            "625/625 [==============================] - 24s 38ms/step - loss: 0.4784 - accuracy: 0.7975 - val_loss: 0.5374 - val_accuracy: 0.8020\n",
            "Epoch 8/15\n",
            "625/625 [==============================] - 24s 39ms/step - loss: 0.3361 - accuracy: 0.8801 - val_loss: 0.5078 - val_accuracy: 0.8304\n",
            "Epoch 9/15\n",
            "625/625 [==============================] - 24s 39ms/step - loss: 0.2684 - accuracy: 0.9141 - val_loss: 0.5002 - val_accuracy: 0.8374\n",
            "Epoch 10/15\n",
            "625/625 [==============================] - 24s 38ms/step - loss: 0.2144 - accuracy: 0.9352 - val_loss: 0.5398 - val_accuracy: 0.8356\n",
            "Epoch 11/15\n",
            "625/625 [==============================] - 25s 40ms/step - loss: 0.1869 - accuracy: 0.9463 - val_loss: 0.5422 - val_accuracy: 0.8448\n",
            "Epoch 12/15\n",
            "625/625 [==============================] - 24s 38ms/step - loss: 0.1674 - accuracy: 0.9549 - val_loss: 0.5587 - val_accuracy: 0.8426\n",
            "Epoch 13/15\n",
            "625/625 [==============================] - 24s 38ms/step - loss: 0.1475 - accuracy: 0.9618 - val_loss: 0.5370 - val_accuracy: 0.8456\n",
            "Epoch 14/15\n",
            "625/625 [==============================] - 24s 38ms/step - loss: 0.1325 - accuracy: 0.9661 - val_loss: 0.5369 - val_accuracy: 0.8444\n",
            "Epoch 15/15\n",
            "625/625 [==============================] - 23s 37ms/step - loss: 0.1185 - accuracy: 0.9711 - val_loss: 0.5445 - val_accuracy: 0.8474\n"
          ]
        },
        {
          "output_type": "execute_result",
          "data": {
            "text/plain": [
              "<keras.src.callbacks.History at 0x78a670516f20>"
            ]
          },
          "metadata": {},
          "execution_count": 36
        }
      ],
      "source": [
        "# Compile the model with binary crossentropy loss and an adam optimizer.\n",
        "model_conv1d.compile(\n",
        "    loss=\"binary_crossentropy\",\n",
        "    optimizer=\"adam\",\n",
        "    metrics=[\"accuracy\"]\n",
        ")\n",
        "\n",
        "model.fit(\n",
        "    train_ds,\n",
        "    validation_data=val_ds,\n",
        "    epochs=15\n",
        ")"
      ]
    },
    {
      "cell_type": "code",
      "execution_count": null,
      "metadata": {
        "id": "7kgJ3yjSq7ik",
        "colab": {
          "base_uri": "https://localhost:8080/"
        },
        "outputId": "7ce48942-0530-46af-ff20-60e1d57917e0"
      },
      "outputs": [
        {
          "output_type": "stream",
          "name": "stdout",
          "text": [
            "782/782 [==============================] - 3s 3ms/step - loss: 0.6931 - accuracy: 0.5021\n"
          ]
        },
        {
          "output_type": "execute_result",
          "data": {
            "text/plain": [
              "[0.6931139230728149, 0.5020800232887268]"
            ]
          },
          "metadata": {},
          "execution_count": 37
        }
      ],
      "source": [
        "model_conv1d.evaluate(test_ds)"
      ]
    },
    {
      "cell_type": "markdown",
      "metadata": {
        "id": "wgq3bs6Yq7ik"
      },
      "source": [
        "## Modelo para producción\n",
        "\n",
        "Si ya tenemos nuestro modelo funcionando, y nos gusta, y queremos dejarlo en un formato que permita aplicarlo a los datos en crudo, es necesario empaquetar todo nuestro procedimiento en un solo procedimiento de principio a fin.\n",
        "\n",
        "Agregamos aqui el truco para empaqetar todo, cuando ya no se espera reentrenar el modelo (al menos no en el corto plazo)."
      ]
    },
    {
      "cell_type": "code",
      "execution_count": null,
      "metadata": {
        "id": "RaulOPX-q7ik"
      },
      "outputs": [],
      "source": [
        "modelo_seleccionado = model_bi\n",
        "\n",
        "# A string input\n",
        "inputs = tf.keras.Input(shape=(1,), dtype=\"string\")\n",
        "\n",
        "# Turn strings into vocab indices\n",
        "indices = vectorize_layer(inputs)\n",
        "\n",
        "# Turn vocab indices into predictions\n",
        "outputs = modelo_seleccionado(indices)\n",
        "\n",
        "# Our end to end model\n",
        "end_to_end_model = tf.keras.Model(inputs, outputs)\n",
        "\n",
        "end_to_end_model.compile(\n",
        "    loss=\"binary_crossentropy\",\n",
        "    optimizer=\"adam\",\n",
        "    metrics=[\"accuracy\"]\n",
        ")\n",
        "\n",
        "end_to_end_model.save('nombre_codigo.keras')"
      ]
    },
    {
      "cell_type": "code",
      "execution_count": null,
      "metadata": {
        "id": "oIXG4QZ3q7il",
        "colab": {
          "base_uri": "https://localhost:8080/"
        },
        "outputId": "10ab08fb-f2f5-4b5a-b092-ce5358585981"
      },
      "outputs": [
        {
          "output_type": "stream",
          "name": "stderr",
          "text": [
            "WARNING:absl:Skipping variable loading for optimizer 'Adam', because it has 35 variables whereas the saved optimizer has 1 variables. \n"
          ]
        },
        {
          "output_type": "stream",
          "name": "stdout",
          "text": [
            "782/782 [==============================] - 28s 33ms/step - loss: 0.6635 - accuracy: 0.8422\n"
          ]
        },
        {
          "output_type": "execute_result",
          "data": {
            "text/plain": [
              "[0.6635413765907288, 0.842199981212616]"
            ]
          },
          "metadata": {},
          "execution_count": 55
        }
      ],
      "source": [
        "end_to_end_model = keras.saving.load_model(\"nombre_codigo.keras\")\n",
        "\n",
        "# Test it with `raw_test_ds`, which yields raw strings\n",
        "end_to_end_model.evaluate(raw_test_ds)"
      ]
    }
  ],
  "metadata": {
    "kernelspec": {
      "display_name": "Python 3",
      "name": "python3"
    },
    "language_info": {
      "codemirror_mode": {
        "name": "ipython",
        "version": 3
      },
      "file_extension": ".py",
      "mimetype": "text/x-python",
      "name": "python",
      "nbconvert_exporter": "python",
      "pygments_lexer": "ipython3",
      "version": "3.8.13"
    },
    "colab": {
      "provenance": [],
      "gpuType": "T4"
    },
    "accelerator": "GPU"
  },
  "nbformat": 4,
  "nbformat_minor": 0
}