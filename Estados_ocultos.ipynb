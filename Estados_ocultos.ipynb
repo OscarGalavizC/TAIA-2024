{
  "cells": [
    {
      "cell_type": "markdown",
      "metadata": {
        "id": "H1kF6nZKlkwk"
      },
      "source": [
        "<center>\n",
        "<p><img src=\"https://mcd.unison.mx/wp-content/themes/awaken/img/logo_mcd.png\" width=\"150\">\n",
        "</p>\n",
        "\n",
        "\n",
        "\n",
        "<h1>Curso Procesamiento de Lenguaje Natural</h1>\n",
        "\n",
        "<h3>RNN a pie</h3>\n",
        "\n",
        "\n",
        "<p> Julio Waissman Vilanova </p>\n",
        "<p>\n",
        "<img src=\"https://identidadbuho.unison.mx/wp-content/uploads/2019/06/letragrama-cmyk-72.jpg\" width=\"150\">\n",
        "</p>\n",
        "\n",
        "\n",
        "<a target=\"_blank\" href=\"https://colab.research.google.com/github/mcd-unison/pln/blob/main/labs/RNN/Estados-ocultos.ipynb\"><img src=\"https://i.ibb.co/2P3SLwK/colab.png\"  style=\"padding-bottom:5px;\"  width=\"30\" /> Ejecuta en Colab</a>\n",
        "\n",
        "<p>\n",
        "Tomado parcialmente y adaptado de libretas de la <i>Especialización en procesamiento de lenguaje natural</i> de <i>Deeplearning.ai</i>, disponible en <i>Coursera</i>.\n",
        "</p>\n",
        "\n",
        "\n",
        "</center>\n"
      ]
    },
    {
      "cell_type": "markdown",
      "metadata": {
        "id": "e7Twq5WWlkwm"
      },
      "source": [
        "## RNN vainilla\n",
        "\n",
        "Para una RNN simple como se muestra en la figura:\n",
        "\n",
        "![vanilla rnn](https://github.com/mcd-unison/pln/blob/main/labs/RNN/vanilla_rnn.PNG?raw=1)\n",
        "\n",
        "\n",
        "La activación de los estados ocultos están dados por:      \n",
        "\n",
        "$h^{<t>}=g(W_{hh}h^{<t-1>} + W_{hx}x^{<t>} + b_h)$                                        \n",
        "\n",
        "\n",
        "este ejemplo lo vams a hacer usando exclusivamente `numpy` para entender el modelo."
      ]
    },
    {
      "cell_type": "code",
      "execution_count": null,
      "metadata": {
        "id": "5DoAqXJ_lkwm"
      },
      "outputs": [],
      "source": [
        "import numpy as np\n",
        "from time import perf_counter"
      ]
    },
    {
      "cell_type": "markdown",
      "metadata": {
        "id": "jEuI2wVXlkwn"
      },
      "source": [
        "Vamos entonces a desarrollar la función de alimentación a adelante de una RNN"
      ]
    },
    {
      "cell_type": "code",
      "execution_count": null,
      "metadata": {
        "id": "IGUVv2bWlkwn"
      },
      "outputs": [],
      "source": [
        "def sigmoid(x):\n",
        "    # Calcula la función logística\n",
        "\n",
        "    ## INICIA CODIGO\n",
        "    return 1 / (1 + np.exp(-x))\n",
        "    ## ACABA CODIGO"
      ]
    },
    {
      "cell_type": "code",
      "execution_count": null,
      "metadata": {
        "id": "phjdzVXLlkwn"
      },
      "outputs": [],
      "source": [
        "def forward_V_RNN(inputs, weights):\n",
        "    # Forward propagation para una RNN vanilla\n",
        "    x_t, h_t_prev = inputs\n",
        "\n",
        "    # weights.\n",
        "    w_hh, w_xh, b_h = weights\n",
        "\n",
        "    ### INICIA CODIGO ###\n",
        "    # Nuevo estado oculto\n",
        "\n",
        "    # Operación lineal\n",
        "    z_t = np.dot(w_xh, x_t) + np.dot(w_hh, h_t_prev) + b_h\n",
        "\n",
        "    # Activación\n",
        "    h_t = np.tanh(z_t)\n",
        "\n",
        "    ### ACABA CODIGO ###\n",
        "\n",
        "    return h_t"
      ]
    },
    {
      "cell_type": "markdown",
      "metadata": {
        "id": "A8GuvDSJlkwn"
      },
      "source": [
        "Vamos a probar como funciona"
      ]
    },
    {
      "cell_type": "code",
      "execution_count": null,
      "metadata": {
        "tags": [],
        "id": "zRh8OGLQlkwo",
        "colab": {
          "base_uri": "https://localhost:8080/"
        },
        "outputId": "ea26eb61-6f4c-4eaa-b76e-2704657bf67b"
      },
      "outputs": [
        {
          "output_type": "stream",
          "name": "stdout",
          "text": [
            "\n",
            "Valor h_t:\n",
            "[[1.]\n",
            " [1.]] \n",
            "\n"
          ]
        }
      ],
      "source": [
        "# Data\n",
        "\n",
        "nh = 2   # Dimensión del vector de variables ocultas\n",
        "nx = 3   # Dimensión del vector de entrada\n",
        "\n",
        "w_hh = np.full((nh, nh), 1.)  # 3x2 llenado con puros 1s\n",
        "w_hx = np.full((nh, nx), 9.)  # 3x3 llenado con puros 9s\n",
        "h_t_prev = np.full((nh, 1), 1.)  # 2x1 llenado con puros 1s\n",
        "x_t = np.full((nx, 1), 9.)       # 3x1 llenado con puros 9s\n",
        "b_h = np.zeros((nh, 1))\n",
        "\n",
        "# Si prefieres valores aleatorios, descomenta lo siguiente:\n",
        "\n",
        "# w_hh = np.random.standard_normal((nh,nh))\n",
        "# w_hx = np.random.standard_normal((nh,nx))\n",
        "# h_t_prev = np.random.standard_normal((nh,1))\n",
        "# x_t = np.random.standard_normal((nx,1))\n",
        "\n",
        "# Aplicando un solo paso\n",
        "h_t = forward_V_RNN([x_t, h_t_prev], [w_hh, w_hx, b_h])\n",
        "\n",
        "print(\"\\nValor h_t:\")\n",
        "print(h_t, \"\\n\")\n",
        "\n"
      ]
    },
    {
      "cell_type": "markdown",
      "metadata": {
        "id": "feFGO7sWlkwo"
      },
      "source": [
        "## RNN tipo LSTM\n",
        "\n",
        "Una LST es un modelo como el que se muestra en la figura, con todo y sus ecuaciones\n",
        "\n",
        "![](https://github.com/mcd-unison/pln/blob/main/labs/RNN/LSTM.jpg?raw=1)\n",
        "\n",
        "Como podemos ver tenemos 3 vectores de entrada a la celda:\n",
        "\n",
        "- $h^{<t-1>}$ el vector de variables ocultas provenientes de un paso anterior,\n",
        "- $C^{<t-1>}$ el vector de valores de celda (memoria de largo plazo) provenientes de un paso anterior,\n",
        "- $x^{<t>}$ el vector de variables de entrada. Idealmente debería estar normalizado entre -1 y 1 cada uno de los valores de entrada.\n",
        "\n",
        "Como podemos ver tenemos varias operaciones:\n",
        "\n",
        "- Una compuerta de olvido $f$ que depende de $h^{<t-1>}$ y $x^{<t>}$ cuya salida es un vector del tamaño de las variables ocultas con valores entre 0 y 1 con la importancia que debe tener el valor de celda anterior (memoria de largo plazo)\n",
        "\n",
        "- Una compuerta de entrada $i$ que depende de $h^{<t-1>}$ y $x^{<t>}$ cuya salida es un vector del tamaño de las variables ocultas con valores entre 0 y 1 con la importancia que debe tener la activación de la celda actual (memoria de corto plazo)\n",
        "\n",
        "- Una compuerta de salida $i$ que depende de $h^{<t-1>}$ y $x^{<t>}$ cuya salida es un vector del tamaño de las variables ocultas con valores entre 0 y 1 con la importancia que debe tener el valor de celda actual en el valor de la de la variable oculta correspondiente.\n",
        "\n",
        "- El calculo de la activación actual, que depende de $h^{<t-1>}$ y $x^{<t>}$, el cual se hace con una tangente hiperbólica, para mantener los valores entre -1 y 1.\n",
        "\n",
        "\n",
        "Hagamos entonces una celda LSTM\n"
      ]
    },
    {
      "cell_type": "code",
      "execution_count": null,
      "metadata": {
        "id": "og9x7nSGlkwo"
      },
      "outputs": [],
      "source": [
        "def forward_LSTM(inputs, weights):\n",
        "    # Forward propagation para una RNN tipo LSTM\n",
        "    x_t, h_t_prev, C_t_prev = inputs\n",
        "\n",
        "    # pesos.\n",
        "    Ui, Wi, Uf, Wf, Uo, Wo, U, W = weights\n",
        "\n",
        "    ### INICIA CODIGO ###\n",
        "    # Compuerta de entrada\n",
        "    i = sigmoid(np.dot(Ui, x_t) + np.dot(Wi, h_t_prev))\n",
        "\n",
        "    # Compuerta de olvido\n",
        "    f = sigmoid(np.dot(Uf, x_t) + np.dot(Wf, h_t_prev))\n",
        "\n",
        "    # Compuerta de salida\n",
        "    o = sigmoid(np.dot(Uo, x_t) + np.dot(Wo, h_t_prev))\n",
        "\n",
        "    # Valor de celda de memoria de corto plazo\n",
        "    C_t_short = np.tanh(np.dot(U, x_t) + np.dot(W, h_t_prev))\n",
        "\n",
        "    # Valor de celda de memoria de corto y largo plazo\n",
        "    C_t = f * C_t_prev + i * C_t_short\n",
        "\n",
        "    # Valor de variable oculta\n",
        "    h_t = o * np.tanh(C_t)\n",
        "    ### ACABA CODIGO ###\n",
        "\n",
        "    return h_t, C_t"
      ]
    },
    {
      "cell_type": "markdown",
      "metadata": {
        "id": "Lihw_sCHlkwp"
      },
      "source": [
        "Vamos a probar como funciona"
      ]
    },
    {
      "cell_type": "code",
      "execution_count": null,
      "metadata": {
        "id": "BCkPTgIClkwp",
        "colab": {
          "base_uri": "https://localhost:8080/"
        },
        "outputId": "4d5e7545-aaf0-46e7-c502-84293c01f232"
      },
      "outputs": [
        {
          "output_type": "stream",
          "name": "stdout",
          "text": [
            "\n",
            "Valor h_t:\n",
            "[[ 0.16974741]\n",
            " [-0.67171261]] \n",
            "\n",
            "\n",
            "Valor C_t:\n",
            "[[ 0.2026316 ]\n",
            " [-0.87955995]] \n",
            "\n"
          ]
        }
      ],
      "source": [
        "# Data\n",
        "\n",
        "nh = 2   # Dimensión del vector de variables ocultas\n",
        "nx = 3   # Dimensión del vector de entrada\n",
        "\n",
        "Ui = np.random.standard_normal((nh,nx))\n",
        "Wi = np.random.standard_normal((nh,nh))\n",
        "\n",
        "Uf = np.random.standard_normal((nh,nx))\n",
        "Wf = np.random.standard_normal((nh,nh))\n",
        "\n",
        "Uo = np.random.standard_normal((nh,nx))\n",
        "Wo = np.random.standard_normal((nh,nh))\n",
        "\n",
        "U = np.random.standard_normal((nh,nx))\n",
        "W = np.random.standard_normal((nh,nh))\n",
        "\n",
        "\n",
        "h_t_prev = 2 * np.random.standard_normal((nh,1)) - 1\n",
        "C_t_prev = np.random.standard_normal((nh,1))\n",
        "x_t = 2 * np.random.standard_normal((nx,1)) - 1\n",
        "\n",
        "# Aplicando un solo paso\n",
        "h_t, C_t = forward_LSTM(\n",
        "    [x_t, h_t_prev, C_t_prev],\n",
        "    [Ui, Wi, Uf, Wf, Uo, Wo, U, W]\n",
        ")\n",
        "\n",
        "print(\"\\nValor h_t:\")\n",
        "print(h_t, \"\\n\")\n",
        "\n",
        "print(\"\\nValor C_t:\")\n",
        "print(C_t, \"\\n\")\n"
      ]
    },
    {
      "cell_type": "markdown",
      "metadata": {
        "id": "hwX7lL-Alkwp"
      },
      "source": [
        "## La función `scan`para el cálculo de BPTT\n",
        "\n",
        "La función `scan` se usa para calcular la propagación hacia adelante. Si la funcións e implementa en un *framework* como *Tensorflow* o *pytorch*, entonces se puede ir guardando los gradientes de cada aplicación a lo largo del tiempo y usarlos en el calculo del gradiente para la función de aprendizaje.\n",
        "\n",
        "Aquí solo vamos a tratar de mostrar como funcionaría dicha función, la cual recibe:\n",
        "\n",
        "- `elems` : lista de entradas (`X`)\n",
        "- `weights` : los parámetros que necesita la función de feedforward para su cálculo (pesos)\n",
        "- `h_0` : estado oculto inicial\n",
        "\n",
        "`scan` va por todos los valores de `x` en `elems`, llama la función de feedforward con los argumentos necesarios, guarda el estado oculto `h_t` y agrega el valor de `h_t` a una lista.\n",
        "\n",
        "Vamos a hacer la función de scan para una celda tipo RNN vainilla"
      ]
    },
    {
      "cell_type": "code",
      "execution_count": null,
      "metadata": {
        "id": "0ztN7uOHlkwp"
      },
      "outputs": [],
      "source": [
        "def scan_V_RNN(elems, weights, h_0=None): # Forward propagation for RNNs\n",
        "    h_t = h_0\n",
        "    h = []\n",
        "    for x in elems:\n",
        "        h_t = forward_V_RNN([x, h_t], weights)\n",
        "        h.append(h_t)\n",
        "    return h, h_t"
      ]
    },
    {
      "cell_type": "markdown",
      "metadata": {
        "id": "ZWMT8mr2lkwq"
      },
      "source": [
        "Vamos a probar inicializando una posible red RNN vainilla en un probable pornblema de PLN"
      ]
    },
    {
      "cell_type": "code",
      "execution_count": null,
      "metadata": {
        "id": "cwFZoaO_lkwq"
      },
      "outputs": [],
      "source": [
        "np.random.seed(10)\n",
        "\n",
        "emb = 128                       # Embedding\n",
        "T = 256                         # Tamaño de secuencia de tokens\n",
        "h_dim = 16                      # Estados ocultos\n",
        "\n",
        "h_0 = np.zeros((h_dim, 1))      # Estado inicial\n",
        "\n",
        "# Inicialización aleatoria de pesos y sesgos\n",
        "Whh = np.random.standard_normal((h_dim, h_dim))\n",
        "Wxh = np.random.standard_normal((h_dim, emb))\n",
        "bh = np.random.standard_normal((h_dim, 1))\n",
        "\n",
        "# Inicialización aleatoria de una secuencia de tokens (en embeddings)\n",
        "X = np.random.standard_normal((T, emb, 1))\n",
        "\n",
        "weights = [Whh, Wxh, bh]"
      ]
    },
    {
      "cell_type": "code",
      "execution_count": null,
      "metadata": {
        "id": "ZZSQ8Gkhlkwq",
        "colab": {
          "base_uri": "https://localhost:8080/"
        },
        "outputId": "a8e12649-ed6d-44c0-c620-e61853452ebf"
      },
      "outputs": [
        {
          "output_type": "stream",
          "name": "stdout",
          "text": [
            "Tomó 4.36ms ejecutar el método de RNN vainilla.\n"
          ]
        }
      ],
      "source": [
        "# vanilla RNNs\n",
        "tic = perf_counter()\n",
        "h, h_T = scan_V_RNN(X, weights, h_0)\n",
        "toc = perf_counter()\n",
        "RNN_time=(toc-tic)*1000\n",
        "print (f\"Tomó {RNN_time:.2f}ms ejecutar el método de RNN vainilla.\")\n"
      ]
    },
    {
      "cell_type": "markdown",
      "metadata": {
        "id": "c-mKKmWAlkwq"
      },
      "source": [
        "**Desarrolla la función de scan para LSTM y prueba con la misma secuencia de entradas para una red LSTM**"
      ]
    },
    {
      "cell_type": "code",
      "execution_count": null,
      "metadata": {
        "id": "jhHJ3RZmlkwr"
      },
      "outputs": [],
      "source": [
        "# Función scan para LSTM\n",
        "\n",
        "# INICIA CODIGO\n",
        "def scan_LSTM(elems, weights, h_0=None, C_0=None): # Forward propagation for LSTMs\n",
        "    h_t = h_0\n",
        "    C_t = C_0\n",
        "    h = []\n",
        "    for x in elems:\n",
        "        h_t, C_t = forward_LSTM([x, h_t, C_t], weights)\n",
        "        h.append(h_t)\n",
        "    return h, (h_t, C_t)\n",
        "# TERMINA CODIGO"
      ]
    },
    {
      "cell_type": "code",
      "execution_count": null,
      "metadata": {
        "id": "CDU95uRMlkwr"
      },
      "outputs": [],
      "source": [
        "# Inicialización de variables\n",
        "\n",
        "# INICIA CODIGO\n",
        "def init_weights_LSTM(input_size, hidden_size):\n",
        "    Ui = np.random.randn(hidden_size, input_size)\n",
        "    Wi = np.random.randn(hidden_size, hidden_size)\n",
        "    Uf = np.random.randn(hidden_size, input_size)\n",
        "    Wf = np.random.randn(hidden_size, hidden_size)\n",
        "    Uo = np.random.randn(hidden_size, input_size)\n",
        "    Wo = np.random.randn(hidden_size, hidden_size)\n",
        "    U = np.random.randn(hidden_size, input_size)\n",
        "    W = np.random.randn(hidden_size, hidden_size)\n",
        "\n",
        "    return Ui, Wi, Uf, Wf, Uo, Wo, U, W\n",
        "\n",
        "# Tamaño de la entrada y oculta\n",
        "input_size = 10\n",
        "hidden_size = 20\n",
        "\n",
        "# Inicialización de los pesos\n",
        "weights_lstm = init_weights_LSTM(input_size, hidden_size)\n",
        "\n",
        "# Inicialización de las variables ocultas y de celda para la primera iteración\n",
        "h_0 = np.zeros((hidden_size, 1))\n",
        "C_0 = np.zeros((hidden_size, 1))\n",
        "# TERMINA CODIGO"
      ]
    },
    {
      "cell_type": "code",
      "execution_count": null,
      "metadata": {
        "id": "VQ0wY_Pilkwr",
        "colab": {
          "base_uri": "https://localhost:8080/"
        },
        "outputId": "b6cf3ce9-2700-423e-dd82-1bcec4159ad2"
      },
      "outputs": [
        {
          "output_type": "stream",
          "name": "stdout",
          "text": [
            "Secuencia de entrada:\n",
            "Entrada 1: [-1.13921105  0.28355966 -0.86445759 -0.56315377  0.9032777  -1.14493097\n",
            "  0.7405767   0.53314369 -0.60216006  0.73046825]\n",
            "Entrada 2: [-0.34189771 -0.06076702 -0.40615267 -0.50510426 -0.32214639 -0.01813614\n",
            "  2.12555923  0.88685488  0.59836685 -0.3018719 ]\n",
            "Entrada 3: [ 0.87248602  0.05104538  1.18634828  0.13499416 -1.03039271  0.21557975\n",
            "  0.06723213 -2.21552296  0.95275411  1.96421665]\n",
            "Entrada 4: [-1.54913261  1.16203116  1.88062467 -0.48011658  2.22176779  0.88767564\n",
            " -0.80055666 -0.08971248  0.0086192  -0.44158074]\n",
            "Entrada 5: [ 0.46253816 -1.28167229  0.06349504  0.76509024 -1.32640181 -2.13303336\n",
            "  0.74792873  3.59534737  0.4653044  -0.96877907]\n",
            "\n",
            "Secuencia de salida (estados ocultos):\n",
            "Estado oculto 1: [ 0.39528538  0.12754263  0.44041048 -0.02151237 -0.00148225  0.32393762\n",
            "  0.18997142  0.09597162 -0.00790158  0.18548252 -0.00409817  0.02108608\n",
            " -0.01184834  0.04886019  0.0092828  -0.44960573  0.04164985 -0.12919259\n",
            "  0.15776953 -0.15342377]\n",
            "Estado oculto 2: [-2.36823324e-01  6.56060298e-01  5.54953754e-03  6.06494848e-04\n",
            "  2.36314942e-01  8.57727495e-01  3.17761679e-01 -4.14308704e-01\n",
            " -1.65232539e-01  3.18055768e-01  3.36315005e-01  1.34014952e-02\n",
            "  2.24101758e-01  9.43565158e-02  2.95507138e-01 -1.52444586e-01\n",
            " -3.72475766e-01 -5.81862436e-01  1.39948622e-02  5.91602547e-02]\n",
            "Estado oculto 3: [-4.20625957e-04  4.81928476e-04  4.36190999e-03 -1.64373157e-01\n",
            "  4.57491625e-02  4.95489041e-01  2.42683656e-01 -2.00691274e-02\n",
            " -1.82477404e-01 -8.05924301e-03  1.01130928e-02 -6.80794308e-01\n",
            "  2.51876368e-01  7.59403817e-01 -6.30430180e-01  5.89083322e-03\n",
            " -3.30473009e-01 -2.41661864e-01 -2.15527653e-01  1.65388862e-05]\n",
            "Estado oculto 4: [ 5.68559697e-01  3.62536035e-01  2.60481928e-01 -5.70039777e-05\n",
            "  2.12001551e-04  2.11769677e-05 -1.44351031e-01  6.22409893e-02\n",
            "  1.32855189e-01 -4.70481476e-01 -5.54339927e-02 -4.89633533e-01\n",
            "  3.55931213e-01  1.13331986e-02  3.45694044e-03  2.29038730e-03\n",
            " -1.09768123e-03 -5.80873324e-01  2.27745542e-03 -2.31407665e-04]\n",
            "Estado oculto 5: [-4.01068807e-02  8.26587814e-01 -4.42675198e-01  5.92759397e-01\n",
            "  1.07849707e-01  7.26628544e-01  4.92170882e-02 -6.09324424e-01\n",
            "  2.52529800e-01  5.22405734e-02 -9.74085060e-02 -1.85524077e-04\n",
            " -5.96844340e-02  9.05353254e-01  4.11152124e-01  4.99700910e-01\n",
            "  3.04849302e-01  2.49094114e-01 -1.10623313e-04  7.59589035e-01]\n",
            "\n",
            "Último estado oculto:\n",
            "[-4.01068807e-02  8.26587814e-01 -4.42675198e-01  5.92759397e-01\n",
            "  1.07849707e-01  7.26628544e-01  4.92170882e-02 -6.09324424e-01\n",
            "  2.52529800e-01  5.22405734e-02 -9.74085060e-02 -1.85524077e-04\n",
            " -5.96844340e-02  9.05353254e-01  4.11152124e-01  4.99700910e-01\n",
            "  3.04849302e-01  2.49094114e-01 -1.10623313e-04  7.59589035e-01]\n",
            "\n",
            "Último estado de celda:\n",
            "[-0.08672284  1.52676242 -0.90605586  0.68413761  0.1090739   1.05287948\n",
            "  0.99642586 -0.77638893  0.91788867  0.80383001 -1.30261492 -1.05682767\n",
            " -0.1186235   1.60857838  0.43901923  0.54940359  0.31549453  0.99193667\n",
            " -0.5622142   0.9954775 ]\n"
          ]
        }
      ],
      "source": [
        "# Probando la función de scan\n",
        "\n",
        "# INICIA CODIGO\n",
        "# Definir una secuencia de entrada\n",
        "input_sequence = [np.random.randn(input_size, 1) for _ in range(5)]\n",
        "\n",
        "# Utilizar la función scan_LSTM para propagación hacia adelante en la secuencia de entrada\n",
        "output_sequence, (last_hidden_state, last_cell_state) = scan_LSTM(input_sequence, weights_lstm, h_0, C_0)\n",
        "\n",
        "# Imprimir el resultado\n",
        "print(\"Secuencia de entrada:\")\n",
        "for i, x in enumerate(input_sequence):\n",
        "    print(f\"Entrada {i+1}: {x.flatten()}\")\n",
        "\n",
        "print(\"\\nSecuencia de salida (estados ocultos):\")\n",
        "for i, h in enumerate(output_sequence):\n",
        "    print(f\"Estado oculto {i+1}: {h.flatten()}\")\n",
        "\n",
        "print(\"\\nÚltimo estado oculto:\")\n",
        "print(last_hidden_state.flatten())\n",
        "\n",
        "print(\"\\nÚltimo estado de celda:\")\n",
        "print(last_cell_state.flatten())\n",
        "# TERMINA CODIGO"
      ]
    }
  ],
  "metadata": {
    "kernelspec": {
      "display_name": "Python 3",
      "language": "python",
      "name": "python3"
    },
    "language_info": {
      "codemirror_mode": {
        "name": "ipython",
        "version": 3
      },
      "file_extension": ".py",
      "mimetype": "text/x-python",
      "name": "python",
      "nbconvert_exporter": "python",
      "pygments_lexer": "ipython3",
      "version": "3.8.13"
    },
    "colab": {
      "provenance": []
    }
  },
  "nbformat": 4,
  "nbformat_minor": 0
}