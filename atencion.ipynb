{
  "cells": [
    {
      "cell_type": "markdown",
      "metadata": {
        "id": "Zv-I3GOxBDGj"
      },
      "source": [
        "<center>\n",
        "<p><img src=\"https://mcd.unison.mx/wp-content/themes/awaken/img/logo_mcd.png\" width=\"150\">\n",
        "</p>\n",
        "\n",
        "\n",
        "\n",
        "<h1>Curso Procesamiento de Lenguaje Natural</h1>\n",
        "\n",
        "<h3>El mecanismo de atención a pie</h3>\n",
        "\n",
        "\n",
        "<p> Julio Waissman Vilanova </p>\n",
        "<p>\n",
        "<img src=\"https://identidadbuho.unison.mx/wp-content/uploads/2019/06/letragrama-cmyk-72.jpg\" width=\"150\">\n",
        "</p>\n",
        "\n",
        "\n",
        "<a target=\"_blank\" href=\"https://colab.research.google.com/github/mcd-unison/pln/blob/main/labs/atencion/atencion.ipynb\"><img src=\"https://i.ibb.co/2P3SLwK/colab.png\"  style=\"padding-bottom:5px;\"  width=\"30\" /> Ejecuta en Colab</a>\n",
        "\n",
        "Tomado parcialmente y adaptado de la libreta <i>C4_W1_Ungraded_Lab_1_Basic_Attention.ipynb</i> de la  <i>Especialización en procesamiento de lenguaje natural</i> de <i>Deeplearning.ai</i>, disponible en <i>Coursera</i>.\n",
        "\n",
        "</center>\n"
      ]
    },
    {
      "cell_type": "markdown",
      "metadata": {
        "id": "mLulsckjBDGl"
      },
      "source": [
        "Como a estas alturas ya deberíamos haber visto en el curso, la atención permite que un modelo del tipo `seq2seq` utilice en cada paso del *decoder*, información de cada paso del *encoder* en lugar de solo el estado oculto final del codificador.\n",
        "\n",
        "En la operación de atención, las salidas del *encoder* se ponderan según el estado oculto del *decoder* y luego se combinan en un único vector de contexto. Este vector se utiliza luego como entrada para el decodificador y predecir el siguiente paso de salida.\n",
        "\n",
        "En esta libreta vamos a:\n",
        "\n",
        "- Implementar en numpy (a pie) el mecanismo de atención para ver como funciona (sin aprendizaje) tal como se propone en [el artículo original de Bhadanau, et al (2014)](https://arxiv.org/abs/1409.0473).\n",
        "  \n",
        "- Implementar en numpy (a pie) el mecanismo de atención tipo **QKV** (**Q**ueries, **K**eys, **V**alues) para ver como funciona (sin aprendizaje) tal como se propone en el famoso artículo de [Attention Is All You Need](https://arxiv.org/abs/1706.03762). Desde este artículo y basado en este mecanismo de atención, los transformadores han dominado a los modelos para procesamiento de lenguaje natural."
      ]
    },
    {
      "cell_type": "code",
      "execution_count": 1,
      "metadata": {
        "id": "vPqS3TmRBDGm"
      },
      "outputs": [],
      "source": [
        "import pickle\n",
        "import matplotlib.pyplot as plt\n",
        "import numpy as np"
      ]
    },
    {
      "cell_type": "markdown",
      "metadata": {
        "id": "6_ADpwAkBDGn"
      },
      "source": [
        "Y la función *softmax* que no viene por default con numpy:"
      ]
    },
    {
      "cell_type": "code",
      "execution_count": 2,
      "metadata": {
        "id": "KSSO_WzlBDGn"
      },
      "outputs": [],
      "source": [
        "def softmax(x, axis=0):\n",
        "    \"\"\" Calcula la función softmax en un eje específico\n",
        "\n",
        "        axis=0 calcula softmax en los renglones, cada columna de salida suma 1\n",
        "        axis=1 calcula softmax en las columnas, cada renglón de salida suma 1\n",
        "    \"\"\"\n",
        "    return np.exp(x) / np.expand_dims(np.sum(np.exp(x), axis=axis), axis)"
      ]
    },
    {
      "cell_type": "markdown",
      "metadata": {
        "id": "FuYjoBuTBDGn"
      },
      "source": [
        "## El primer mecanismo de atención\n",
        "\n",
        "### El modelo\n",
        "\n",
        "El primer paso es calcular los puntajes de alineación. Esto es una medida de similitud entre el estado oculto del decodificador y cada estado oculto del codificador. Según el artículo, esta operación se ve así:\n",
        "\n",
        "$$\n",
        "\\large e_{ij} = v_a^\\top \\tanh{\\left(W_a s_{i-1} + U_a h_j\\right)}\n",
        "$$\n",
        "\n",
        "donde $W_a \\in \\mathbb{R}^{n\\times m}$, $U_a \\in \\mathbb{R}^{n \\times m} $ y $v_a \\in \\mathbb{R}^m$ son las matrices de peso y $n$ es el tamaño del estado oculto. En la práctica, esto se implementa como una red neuronal feedforward con dos capas, donde $m$ es el tamaño de las capas en la red de alineación. Se ve algo así:\n",
        "\n",
        "![alignment_model.png](attachment:alignment_model.png)\n",
        "\n",
        "Aquí, $h_j$ son los estados ocultos del codificador para cada paso de entrada $j$ y $s_{i - 1}$ es el estado oculto del decodificador del paso anterior. La primera capa corresponde a $W_a$ y $U_a$, mientras que la segunda capa corresponde a $v_a$.\n",
        "\n",
        "Para implementar esto, primero concatena los estados ocultos del codificador y del decodificador para producir un array con tamaño $K \\times 2n$, donde $K$ es el número de estados/pasos del codificador. Para esto, utiliza `np.concatenate` ([documentación](https://numpy.org/doc/stable/reference/generated/numpy.concatenate.html)).\n",
        "\n",
        "Ten en cuenta que solo hay un estado del decodificador, así que necesitarás remodelarlo para concatenar los arrays correctamente. La forma más fácil es usar `decoder_state.repeat` ([documentación](https://numpy.org/doc/stable/reference/generated/numpy.repeat.html#numpy.repeat)) para que coincida con el tamaño del array de estados ocultos.\n",
        "\n",
        "Luego, aplica la primera capa como una multiplicación de matrices entre los pesos y la entrada concatenada. Usa la función tanh para obtener las activaciones. Finalmente, realiza la multiplicación de matrices de los pesos de la segunda capa y las activaciones. Esto te dará los puntajes de alineación."
      ]
    },
    {
      "cell_type": "code",
      "execution_count": 4,
      "metadata": {
        "id": "NPs47FylBDGo"
      },
      "outputs": [],
      "source": [
        "hidden_size = 16\n",
        "attention_size = 10\n",
        "input_length = 5\n",
        "\n",
        "# Ejemplos de dalva para probar\n",
        "np.random.seed(42)\n",
        "encoder_states = np.random.randn(input_length, hidden_size)\n",
        "decoder_state = np.random.randn(1, hidden_size)\n",
        "\n",
        "# Pesos usados en el mecanismo de atención. Estos se aprenden en el proceso de\n",
        "# aprendizaje, pero aqui vaos a ponerlos como pesos fijos en forma pseudoaleatoria\n",
        "layer_1 = np.random.randn(2 * hidden_size, attention_size)\n",
        "layer_2 = np.random.randn(attention_size, 1)\n",
        "\n",
        "# La función de alineamiento\n",
        "# (para encontrar los pesos de las entradas en las salidas)\n",
        "\n",
        "def alignment(encoder_states, decoder_state):\n",
        "\n",
        "    # Concatena las dos entradas\n",
        "    inputs = np.concatenate(\n",
        "        (encoder_states, decoder_state.repeat(input_length, axis=0)),\n",
        "        axis=1\n",
        "    )\n",
        "\n",
        "    # Capa densa con activación tanh\n",
        "    activations = np.tanh(inputs @ layer_1)\n",
        "\n",
        "    # Capa densa con activación lineal\n",
        "    scores = activations @ layer_2\n",
        "\n",
        "    # fin de la red neuronal de atención\n",
        "    return scores"
      ]
    },
    {
      "cell_type": "markdown",
      "metadata": {
        "id": "_yh4zqk_BDGo"
      },
      "source": [
        "y para probar..."
      ]
    },
    {
      "cell_type": "code",
      "execution_count": 5,
      "metadata": {
        "colab": {
          "base_uri": "https://localhost:8080/"
        },
        "id": "rz_HkCWgBDGo",
        "outputId": "14b837c7-e0a3-400b-b0e8-9f065db1f67a"
      },
      "outputs": [
        {
          "name": "stdout",
          "output_type": "stream",
          "text": [
            "[[4.35790943]\n",
            " [5.92373433]\n",
            " [4.18673175]\n",
            " [2.11437202]\n",
            " [0.95767155]]\n"
          ]
        }
      ],
      "source": [
        "scores = alignment(encoder_states, decoder_state)\n",
        "print(scores)"
      ]
    },
    {
      "cell_type": "markdown",
      "metadata": {
        "id": "M3Qs4jADBDGo"
      },
      "source": [
        "Deberíamos tener en la salida anterior:\n",
        "\n",
        "```python\n",
        "[[4.35790943]\n",
        " [5.92373433]\n",
        " [4.18673175]\n",
        " [2.11437202]\n",
        " [0.95767155]]\n",
        "```"
      ]
    },
    {
      "cell_type": "markdown",
      "metadata": {
        "id": "izP1_YGqBDGp"
      },
      "source": [
        "### Ponderar los vectores de salida del codificador y sumar\n",
        "\n",
        "El siguiente paso es calcular los pesos a partir de los puntajes de alineación. Estos pesos determinan las salidas del codificador que son más importantes para la salida del decodificador. Estos pesos deben estar entre 0 y 1, y sumar 1.\n",
        "\n",
        "Para esto vamos a usar la función softmax que ya he implementado arriba. Los pesos te indican la importancia de cada palabra de entrada en relación con el estado del decodificador. En este paso, utilizas los pesos para modular la magnitud de los vectores del codificador.\n",
        "\n",
        "Las palabras con poca importancia se reducirán en comparación con las palabras importantes. Multiplica cada vector del codificador por su respectivo peso para obtener los vectores de alineación y luego suma los vectores de alineación ponderados para obtener el vector de contexto. Matemáticamente,\n",
        "\n",
        "$$\n",
        "\\large c_i = \\sum_{j=1}^K\\alpha_{ij} h_{j}\n",
        "$$"
      ]
    },
    {
      "cell_type": "code",
      "execution_count": 6,
      "metadata": {
        "colab": {
          "base_uri": "https://localhost:8080/"
        },
        "id": "jiBuCBlxBDGp",
        "outputId": "37f330f1-b928-42ae-ac9b-675830b30835"
      },
      "outputs": [
        {
          "name": "stdout",
          "output_type": "stream",
          "text": [
            "[-0.63514569  0.04917298 -0.43930867 -0.9268003   1.01903919 -0.43181409\n",
            "  0.13365099 -0.84746874 -0.37572203  0.18279832 -0.90452701  0.17872958\n",
            " -0.58015282 -0.58294027 -0.75457577  1.32985756]\n"
          ]
        }
      ],
      "source": [
        "def attention(encoder_states, decoder_state):\n",
        "    \"\"\" Example function that calculates attention, returns the context vector\n",
        "\n",
        "        Arguments:\n",
        "        encoder_vectors: NxM numpy array, where N is the number of vectors and M is the vector length\n",
        "        decoder_vector: 1xM numpy array, M is the vector length, much be the same M as encoder_vectors\n",
        "    \"\"\"\n",
        "\n",
        "    # Calcula el score de alignment\n",
        "    scores = alignment(encoder_states, decoder_state)\n",
        "\n",
        "    # Softmax\n",
        "    weights = softmax(scores)\n",
        "\n",
        "    # Multiplica cada estado del encoder por su peso respectivo\n",
        "    weighted_scores = encoder_states * weights\n",
        "\n",
        "    # Suma los pesos por los ejemplos para encontrar la salida\n",
        "    context = weighted_scores.sum(axis=0)\n",
        "    return context\n",
        "\n",
        "context_vector = attention(encoder_states, decoder_state)\n",
        "print(context_vector)"
      ]
    },
    {
      "cell_type": "markdown",
      "metadata": {
        "id": "B_VA04eRBDGp"
      },
      "source": [
        "Si la función de `attention` se implementó correctamente, el vector de contexto debería ser:\n",
        "\n",
        "```python\n",
        "[-0.63514569  0.04917298 -0.43930867 -0.9268003   1.01903919 -0.43181409\n",
        "  0.13365099 -0.84746874 -0.37572203  0.18279832 -0.90452701  0.17872958\n",
        " -0.58015282 -0.58294027 -0.75457577  1.32985756]\n",
        "```\n",
        "\n"
      ]
    },
    {
      "cell_type": "markdown",
      "metadata": {
        "id": "KalMo9WgBDGp"
      },
      "source": [
        "## El mecanismo de atención tipo QKV\n",
        "\n",
        "### Obteniendo los datos para el ejemplo\n",
        "\n",
        "El modelo  aprende cómo alinear palabras en diferentes idiomas. No se entrenarán pesos aquí, así que en su lugar vamos a usear embeddings de palabras alineadas pre-entrenadas cono las de [fasttext](https://fasttext.cc/docs/en/aligned-vectors.html).\n",
        "\n",
        "La siguientes celdas lo hacen a pie, pero yo te recomiendo que saltes estas primeras celdas sn ejecutar (tardan muchisimo) y utilices los archivos que obtuvimos con estas celdas:"
      ]
    },
    {
      "cell_type": "code",
      "execution_count": 7,
      "metadata": {
        "colab": {
          "base_uri": "https://localhost:8080/"
        },
        "id": "mIYbNo50BDGq",
        "outputId": "07b1e95a-235c-4e59-f619-ac564d8a634a"
      },
      "outputs": [
        {
          "name": "stderr",
          "output_type": "stream",
          "text": [
            "  % Total    % Received % Xferd  Average Speed   Time    Time     Time  Current\n",
            "                                 Dload  Upload   Total   Spent    Left  Speed\n",
            "\n",
            "  0     0    0     0    0     0      0      0 --:--:-- --:--:-- --:--:--     0\n",
            "  0     0    0     0    0     0      0      0 --:--:-- --:--:-- --:--:--     0\n",
            "  0 2124M    0 11.0M    0     0  10.9M      0  0:03:14  0:00:01  0:03:13 10.9M\n",
            "  1 2124M    1 24.4M    0     0  12.0M      0  0:02:56  0:00:02  0:02:54 12.0M\n",
            "  2 2124M    2 49.8M    0     0  14.7M      0  0:02:24  0:00:03  0:02:21 14.7M\n",
            "  2 2124M    2 55.4M    0     0  13.7M      0  0:02:34  0:00:04  0:02:30 13.7M\n",
            "  4 2124M    4 89.7M    0     0  17.9M      0  0:01:58  0:00:05  0:01:53 17.9M\n",
            "  5 2124M    5  123M    0     0  20.6M      0  0:01:43  0:00:06  0:01:37 22.5M\n",
            "  7 2124M    7  166M    0     0  21.3M      0  0:01:39  0:00:07  0:01:32 24.6M\n",
            "  8 2124M    8  176M    0     0  22.0M      0  0:01:36  0:00:08  0:01:28 27.4M\n",
            "  9 2124M    9  202M    0     0  22.5M      0  0:01:34  0:00:09  0:01:25 29.5M\n",
            " 10 2124M   10  225M    0     0  22.5M      0  0:01:34  0:00:10  0:01:24 27.0M\n",
            " 11 2124M   11  250M    0     0  22.7M      0  0:01:33  0:00:11  0:01:22 25.3M\n",
            " 13 2124M   13  281M    0     0  23.4M      0  0:01:30  0:00:12  0:01:18 27.4M\n",
            " 14 2124M   14  316M    0     0  24.3M      0  0:01:27  0:00:13  0:01:14 27.8M\n",
            " 16 2124M   16  349M    0     0  24.9M      0  0:01:25  0:00:14  0:01:11 29.2M\n",
            " 18 2124M   18  384M    0     0  25.5M      0  0:01:23  0:00:15  0:01:08 31.5M\n",
            " 19 2124M   19  414M    0     0  25.8M      0  0:01:22  0:00:16  0:01:06 32.6M\n",
            " 20 2124M   20  442M    0     0  26.0M      0  0:01:21  0:00:17  0:01:04 32.1M\n",
            " 22 2124M   22  474M    0     0  26.3M      0  0:01:20  0:00:18  0:01:02 31.6M\n",
            " 23 2124M   23  507M    0     0  26.6M      0  0:01:19  0:00:19  0:01:00 31.6M\n",
            " 25 2124M   25  538M    0     0  26.9M      0  0:01:18  0:00:20  0:00:58 31.1M\n",
            " 26 2124M   26  569M    0     0  27.1M      0  0:01:18  0:00:21  0:00:57 31.1M\n",
            " 28 2124M   28  603M    0     0  27.4M      0  0:01:17  0:00:22  0:00:55 32.2M\n",
            " 29 2124M   29  636M    0     0  27.6M      0  0:01:16  0:00:23  0:00:53 32.4M\n",
            " 31 2124M   31  671M    0     0  27.9M      0  0:01:15  0:00:24  0:00:51 32.8M\n",
            " 33 2124M   33  703M    0     0  28.1M      0  0:01:15  0:00:25  0:00:50 32.9M\n",
            " 34 2124M   34  738M    0     0  28.3M      0  0:01:14  0:00:26  0:00:48 33.4M\n",
            " 36 2124M   36  771M    0     0  28.5M      0  0:01:14  0:00:27  0:00:47 33.6M\n",
            " 37 2124M   37  806M    0     0  28.8M      0  0:01:13  0:00:28  0:00:45 33.9M\n",
            " 39 2124M   39  839M    0     0  28.9M      0  0:01:13  0:00:29  0:00:44 33.5M\n",
            " 40 2124M   40  856M    0     0  27.9M      0  0:01:15  0:00:30  0:00:45 27.3M\n",
            " 41 2124M   41  888M    0     0  28.6M      0  0:01:14  0:00:31  0:00:43 30.1M\n",
            " 42 2124M   42  900M    0     0  28.1M      0  0:01:15  0:00:32  0:00:43 25.7M\n",
            " 43 2124M   43  916M    0     0  27.7M      0  0:01:16  0:00:33  0:00:43 22.0M\n",
            " 44 2124M   44  946M    0     0  27.8M      0  0:01:16  0:00:34  0:00:42 21.4M\n",
            " 46 2124M   46  981M    0     0  28.0M      0  0:01:15  0:00:35  0:00:40 28.4M\n",
            " 47 2124M   47 1016M    0     0  28.2M      0  0:01:15  0:00:36  0:00:39 25.7M\n",
            " 49 2124M   49 1040M    0     0  28.1M      0  0:01:15  0:00:37  0:00:38 28.0M\n",
            " 50 2124M   50 1069M    0     0  28.1M      0  0:01:15  0:00:38  0:00:37 30.4M\n",
            " 52 2124M   52 1107M    0     0  28.3M      0  0:01:14  0:00:39  0:00:35 32.0M\n",
            " 53 2124M   53 1139M    0     0  28.4M      0  0:01:14  0:00:40  0:00:34 31.3M\n",
            " 53 2124M   53 1146M    0     0  27.9M      0  0:01:15  0:00:41  0:00:34 26.1M\n",
            " 55 2124M   55 1174M    0     0  27.9M      0  0:01:16  0:00:42  0:00:34 26.6M\n",
            " 56 2124M   56 1210M    0     0  28.1M      0  0:01:15  0:00:43  0:00:32 28.0M\n",
            " 58 2124M   58 1245M    0     0  28.3M      0  0:01:15  0:00:44  0:00:31 27.6M\n",
            " 60 2124M   60 1280M    0     0  28.4M      0  0:01:14  0:00:45  0:00:29 28.4M\n",
            " 61 2124M   61 1315M    0     0  28.6M      0  0:01:14  0:00:46  0:00:28 33.8M\n",
            " 63 2124M   63 1349M    0     0  28.7M      0  0:01:13  0:00:47  0:00:26 35.1M\n",
            " 65 2124M   65 1383M    0     0  28.7M      0  0:01:13  0:00:48  0:00:25 34.5M\n",
            " 65 2124M   65 1397M    0     0  28.5M      0  0:01:14  0:00:49  0:00:25 30.2M\n",
            " 67 2124M   67 1430M    0     0  28.6M      0  0:01:14  0:00:50  0:00:24 29.8M\n",
            " 68 2124M   68 1464M    0     0  28.7M      0  0:01:13  0:00:51  0:00:22 29.7M\n",
            " 70 2124M   70 1499M    0     0  28.8M      0  0:01:13  0:00:52  0:00:21 29.9M\n",
            " 72 2124M   72 1532M    0     0  28.9M      0  0:01:13  0:00:53  0:00:20 29.9M\n",
            " 73 2124M   73 1567M    0     0  29.0M      0  0:01:13  0:00:54  0:00:19 34.0M\n",
            " 75 2124M   75 1602M    0     0  29.1M      0  0:01:12  0:00:55  0:00:17 34.3M\n",
            " 77 2124M   77 1635M    0     0  29.1M      0  0:01:12  0:00:56  0:00:16 34.0M\n",
            " 78 2124M   78 1665M    0     0  29.2M      0  0:01:12  0:00:57  0:00:15 33.3M\n",
            " 80 2124M   80 1699M    0     0  29.2M      0  0:01:12  0:00:58  0:00:14 33.3M\n",
            " 81 2124M   81 1737M    0     0  29.4M      0  0:01:12  0:00:59  0:00:13 34.0M\n",
            " 83 2124M   83 1763M    0     0  29.3M      0  0:01:12  0:01:00  0:00:12 32.3M\n",
            " 84 2124M   84 1795M    0     0  29.4M      0  0:01:12  0:01:01  0:00:11 32.1M\n",
            " 85 2124M   85 1826M    0     0  29.4M      0  0:01:12  0:01:02  0:00:10 32.0M\n",
            " 87 2124M   87 1857M    0     0  29.4M      0  0:01:12  0:01:03  0:00:09 31.6M\n",
            " 89 2124M   89 1890M    0     0  29.5M      0  0:01:11  0:01:04  0:00:07 30.4M\n",
            " 90 2124M   90 1923M    0     0  29.5M      0  0:01:11  0:01:05  0:00:06 31.8M\n",
            " 92 2124M   92 1958M    0     0  29.6M      0  0:01:11  0:01:06  0:00:05 32.5M\n",
            " 93 2124M   93 1992M    0     0  29.7M      0  0:01:11  0:01:07  0:00:04 33.1M\n",
            " 95 2124M   95 2027M    0     0  29.8M      0  0:01:11  0:01:08  0:00:03 33.9M\n",
            " 97 2124M   97 2062M    0     0  29.8M      0  0:01:11  0:01:09  0:00:02 34.5M\n",
            " 98 2124M   98 2097M    0     0  29.9M      0  0:01:10  0:01:10 --:--:-- 34.8M\n",
            "100 2124M  100 2124M    0     0  29.9M      0  0:01:10  0:01:10 --:--:-- 34.3M\n",
            "  % Total    % Received % Xferd  Average Speed   Time    Time     Time  Current\n",
            "                                 Dload  Upload   Total   Spent    Left  Speed\n",
            "\n",
            "  0     0    0     0    0     0      0      0 --:--:-- --:--:-- --:--:--     0\n",
            "  0 5422M    0 1321k    0     0  1330k      0  1:09:32 --:--:--  1:09:32 1331k\n",
            "  0 5422M    0 14.6M    0     0  7482k      0  0:12:22  0:00:02  0:12:20 7489k\n",
            "  0 5422M    0 28.5M    0     0  9818k      0  0:09:25  0:00:02  0:09:23 9821k\n",
            "  0 5422M    0 43.7M    0     0  10.9M      0  0:08:15  0:00:03  0:08:12 10.9M\n",
            "  1 5422M    1 59.5M    0     0  11.9M      0  0:07:35  0:00:04  0:07:31 11.9M\n",
            "  1 5422M    1 77.1M    0     0  12.8M      0  0:07:00  0:00:05  0:06:55 15.1M\n",
            "  1 5422M    1 93.9M    0     0  13.4M      0  0:06:44  0:00:07  0:06:37 15.8M\n",
            "  2 5422M    2  110M    0     0  13.8M      0  0:06:32  0:00:08  0:06:24 16.3M\n",
            "  2 5422M    2  126M    0     0  14.1M      0  0:06:24  0:00:08  0:06:16 16.6M\n",
            "  2 5422M    2  144M    0     0  14.4M      0  0:06:15  0:00:10  0:06:05 16.9M\n",
            "  2 5422M    2  161M    0     0  14.7M      0  0:06:07  0:00:10  0:05:57 16.9M\n",
            "  3 5422M    3  179M    0     0  14.9M      0  0:06:02  0:00:12  0:05:50 17.1M\n",
            "  3 5422M    3  191M    0     0  14.7M      0  0:06:08  0:00:13  0:05:55 16.1M\n",
            "  3 5422M    3  207M    0     0  14.8M      0  0:06:04  0:00:13  0:05:51 16.2M\n",
            "  4 5422M    4  224M    0     0  14.9M      0  0:06:02  0:00:14  0:05:48 15.9M\n",
            "  4 5422M    4  239M    0     0  14.9M      0  0:06:02  0:00:16  0:05:46 15.4M\n",
            "  4 5422M    4  254M    0     0  14.9M      0  0:06:01  0:00:16  0:05:45 15.0M\n",
            "  5 5422M    5  271M    0     0  15.0M      0  0:05:59  0:00:18  0:05:41 16.0M\n",
            "  5 5422M    5  279M    0     0  14.7M      0  0:06:07  0:00:18  0:05:49 14.3M\n",
            "  5 5422M    5  296M    0     0  14.8M      0  0:06:05  0:00:19  0:05:46 14.5M\n",
            "  5 5422M    5  313M    0     0  14.9M      0  0:06:02  0:00:20  0:05:42 15.0M\n",
            "  6 5422M    6  343M    0     0  15.5M      0  0:05:48  0:00:22  0:05:26 17.5M\n",
            "  6 5422M    6  379M    0     0  16.5M      0  0:05:28  0:00:22  0:05:06 21.6M\n",
            "  7 5422M    7  412M    0     0  17.1M      0  0:05:15  0:00:23  0:04:52 26.5M\n",
            "  8 5422M    8  441M    0     0  17.6M      0  0:05:07  0:00:25  0:04:42 28.7M\n",
            "  8 5422M    8  471M    0     0  18.1M      0  0:04:58  0:00:25  0:04:33 31.4M\n",
            "  9 5422M    9  497M    0     0  18.4M      0  0:04:53  0:00:26  0:04:27 31.3M\n",
            "  9 5422M    9  527M    0     0  18.8M      0  0:04:47  0:00:27  0:04:20 29.6M\n",
            " 10 5422M   10  563M    0     0  19.4M      0  0:04:38  0:00:28  0:04:10 30.2M\n",
            " 11 5422M   11  596M    0     0  19.8M      0  0:04:32  0:00:29  0:04:03 31.2M\n",
            " 11 5422M   11  631M    0     0  20.3M      0  0:04:26  0:00:30  0:03:56 32.0M\n",
            " 12 5422M   12  667M    0     0  20.8M      0  0:04:20  0:00:31  0:03:49 33.7M\n",
            " 12 5422M   12  701M    0     0  21.2M      0  0:04:15  0:00:33  0:03:42 34.5M\n",
            " 13 5422M   13  734M    0     0  21.6M      0  0:04:10  0:00:33  0:03:37 34.2M\n",
            " 14 5422M   14  769M    0     0  22.0M      0  0:04:06  0:00:34  0:03:32 34.6M\n",
            " 14 5422M   14  804M    0     0  22.3M      0  0:04:02  0:00:35  0:03:27 34.7M\n",
            " 15 5422M   15  829M    0     0  22.4M      0  0:04:01  0:00:36  0:03:25 32.3M\n",
            " 15 5422M   15  856M    0     0  22.5M      0  0:04:00  0:00:37  0:03:23 31.1M\n",
            " 16 5422M   16  882M    0     0  22.6M      0  0:03:59  0:00:38  0:03:21 29.5M\n",
            " 16 5422M   16  908M    0     0  22.7M      0  0:03:58  0:00:39  0:03:19 27.6M\n",
            " 17 5422M   17  940M    0     0  22.9M      0  0:03:56  0:00:41  0:03:15 26.8M\n",
            " 17 5422M   17  974M    0     0  23.2M      0  0:03:53  0:00:41  0:03:12 29.0M\n",
            " 18 5422M   18 1006M    0     0  23.4M      0  0:03:51  0:00:42  0:03:09 29.9M\n",
            " 19 5422M   19 1034M    0     0  23.3M      0  0:03:51  0:00:44  0:03:07 28.9M\n",
            " 19 5422M   19 1048M    0     0  23.3M      0  0:03:52  0:00:44  0:03:08 28.0M\n",
            " 19 5422M   19 1080M    0     0  23.4M      0  0:03:50  0:00:46  0:03:04 28.0M\n",
            " 20 5422M   20 1115M    0     0  23.7M      0  0:03:48  0:00:47  0:03:01 27.9M\n",
            " 21 5422M   21 1149M    0     0  23.9M      0  0:03:46  0:00:47  0:02:59 28.7M\n",
            " 21 5422M   21 1183M    0     0  24.1M      0  0:03:44  0:00:49  0:02:55 31.0M\n",
            " 22 5422M   22 1196M    0     0  23.9M      0  0:03:46  0:00:49  0:02:57 29.6M\n",
            " 22 5422M   22 1207M    0     0  23.6M      0  0:03:48  0:00:50  0:02:58 25.5M\n",
            " 22 5422M   22 1235M    0     0  23.7M      0  0:03:48  0:00:51  0:02:57 24.3M\n",
            " 23 5422M   23 1267M    0     0  23.9M      0  0:03:46  0:00:52  0:02:54 23.5M\n",
            " 23 5422M   23 1297M    0     0  24.0M      0  0:03:45  0:00:53  0:02:52 23.0M\n",
            " 24 5422M   24 1315M    0     0  23.9M      0  0:03:46  0:00:54  0:02:52 23.7M\n",
            " 24 5422M   24 1338M    0     0  23.9M      0  0:03:46  0:00:55  0:02:51 26.1M\n",
            " 25 5422M   25 1371M    0     0  24.0M      0  0:03:45  0:00:57  0:02:48 27.0M\n",
            " 25 5422M   25 1403M    0     0  24.2M      0  0:03:43  0:00:57  0:02:46 27.2M\n",
            " 26 5422M   26 1438M    0     0  24.3M      0  0:03:42  0:00:58  0:02:44 28.2M\n",
            " 27 5422M   27 1474M    0     0  24.5M      0  0:03:40  0:00:59  0:02:41 31.7M\n",
            " 27 5422M   27 1517M    0     0  23.1M      0  0:03:54  0:01:05  0:02:49 18.8M\n",
            " 28 5422M   28 1531M    0     0  23.2M      0  0:03:53  0:01:05  0:02:48 17.8M\n",
            " 28 5422M   28 1562M    0     0  23.3M      0  0:03:52  0:01:06  0:02:46 17.6M\n",
            " 29 5422M   29 1589M    0     0  23.3M      0  0:03:51  0:01:07  0:02:44 16.7M\n",
            " 29 5422M   29 1617M    0     0  23.4M      0  0:03:51  0:01:08  0:02:43 15.8M\n",
            " 30 5422M   30 1647M    0     0  23.5M      0  0:03:50  0:01:09  0:02:41 28.9M\n",
            " 30 5422M   30 1680M    0     0  23.6M      0  0:03:49  0:01:10  0:02:39 29.7M\n",
            " 31 5422M   31 1710M    0     0  23.7M      0  0:03:48  0:01:11  0:02:37 29.6M\n",
            " 32 5422M   32 1737M    0     0  23.8M      0  0:03:47  0:01:12  0:02:35 29.4M\n",
            " 32 5422M   32 1766M    0     0  23.8M      0  0:03:47  0:01:13  0:02:34 29.8M\n",
            " 33 5422M   33 1800M    0     0  24.0M      0  0:03:45  0:01:15  0:02:30 30.4M\n",
            " 33 5422M   33 1836M    0     0  24.1M      0  0:03:44  0:01:16  0:02:28 30.9M\n",
            " 34 5422M   34 1871M    0     0  24.3M      0  0:03:43  0:01:16  0:02:27 32.1M\n",
            " 35 5422M   35 1904M    0     0  24.4M      0  0:03:41  0:01:17  0:02:24 33.5M\n",
            " 35 5422M   35 1941M    0     0  24.5M      0  0:03:40  0:01:18  0:02:22 35.0M\n",
            " 36 5422M   36 1976M    0     0  24.7M      0  0:03:39  0:01:19  0:02:20 35.4M\n",
            " 37 5422M   37 2008M    0     0  24.7M      0  0:03:38  0:01:21  0:02:17 34.5M\n",
            " 37 5422M   37 2037M    0     0  24.8M      0  0:03:38  0:01:21  0:02:17 33.2M\n",
            " 37 5422M   37 2055M    0     0  24.7M      0  0:03:38  0:01:22  0:02:16 30.2M\n",
            " 38 5422M   38 2081M    0     0  24.7M      0  0:03:38  0:01:23  0:02:15 28.0M\n",
            " 38 5422M   38 2107M    0     0  24.8M      0  0:03:38  0:01:24  0:02:14 26.2M\n",
            " 39 5422M   39 2134M    0     0  24.8M      0  0:03:38  0:01:25  0:02:13 25.3M\n",
            " 39 5422M   39 2168M    0     0  24.9M      0  0:03:37  0:01:26  0:02:11 26.1M\n",
            " 40 5422M   40 2198M    0     0  24.9M      0  0:03:36  0:01:27  0:02:09 28.5M\n",
            " 41 5422M   41 2227M    0     0  25.0M      0  0:03:36  0:01:29  0:02:07 28.6M\n",
            " 41 5422M   41 2260M    0     0  25.1M      0  0:03:35  0:01:29  0:02:06 30.5M\n",
            " 42 5422M   42 2295M    0     0  25.2M      0  0:03:34  0:01:30  0:02:04 32.1M\n",
            " 42 5422M   42 2329M    0     0  25.3M      0  0:03:34  0:01:31  0:02:03 32.1M\n",
            " 43 5422M   43 2363M    0     0  25.4M      0  0:03:33  0:01:32  0:02:01 32.8M\n",
            " 44 5422M   44 2400M    0     0  25.5M      0  0:03:32  0:01:33  0:01:59 35.1M\n",
            " 44 5422M   44 2435M    0     0  25.6M      0  0:03:31  0:01:34  0:01:57 34.9M\n",
            " 45 5422M   45 2467M    0     0  25.7M      0  0:03:30  0:01:35  0:01:55 34.4M\n",
            " 46 5422M   46 2499M    0     0  25.7M      0  0:03:30  0:01:37  0:01:53 33.8M\n",
            " 46 5422M   46 2527M    0     0  25.7M      0  0:03:30  0:01:37  0:01:53 32.9M\n",
            " 47 5422M   47 2553M    0     0  25.7M      0  0:03:30  0:01:38  0:01:52 30.7M\n",
            " 47 5422M   47 2574M    0     0  25.7M      0  0:03:30  0:01:39  0:01:51 27.9M\n",
            " 48 5422M   48 2603M    0     0  25.7M      0  0:03:30  0:01:40  0:01:50 27.1M\n",
            " 48 5422M   48 2636M    0     0  25.8M      0  0:03:29  0:01:41  0:01:48 27.5M\n",
            " 49 5422M   49 2668M    0     0  25.9M      0  0:03:29  0:01:42  0:01:47 28.0M\n",
            " 49 5422M   49 2700M    0     0  25.9M      0  0:03:28  0:01:43  0:01:45 29.3M\n",
            " 50 5422M   50 2735M    0     0  26.0M      0  0:03:28  0:01:45  0:01:43 31.8M\n",
            " 50 5422M   50 2763M    0     0  26.0M      0  0:03:27  0:01:45  0:01:42 31.9M\n",
            " 51 5422M   51 2789M    0     0  26.0M      0  0:03:27  0:01:46  0:01:41 30.6M\n",
            " 51 5422M   51 2816M    0     0  26.0M      0  0:03:27  0:01:47  0:01:40 29.6M\n",
            " 52 5422M   52 2849M    0     0  26.1M      0  0:03:27  0:01:48  0:01:39 29.9M\n",
            " 53 5422M   53 2892M    0     0  26.2M      0  0:03:26  0:01:50  0:01:36 29.9M\n",
            " 53 5422M   53 2920M    0     0  26.3M      0  0:03:26  0:01:50  0:01:36 31.3M\n",
            " 54 5422M   54 2952M    0     0  26.3M      0  0:03:25  0:01:51  0:01:34 32.6M\n",
            " 55 5422M   55 2986M    0     0  26.4M      0  0:03:25  0:01:53  0:01:32 33.7M\n",
            " 55 5422M   55 3021M    0     0  26.5M      0  0:03:24  0:01:53  0:01:31 34.4M\n",
            " 56 5422M   56 3057M    0     0  26.5M      0  0:03:24  0:01:55  0:01:29 34.5M\n",
            " 57 5422M   57 3090M    0     0  26.6M      0  0:03:23  0:01:55  0:01:28 33.9M\n",
            " 57 5422M   57 3116M    0     0  26.6M      0  0:03:23  0:01:57  0:01:26 32.6M\n",
            " 57 5422M   57 3138M    0     0  26.5M      0  0:03:23  0:01:58  0:01:25 30.5M\n",
            " 58 5422M   58 3176M    0     0  26.6M      0  0:03:23  0:01:58  0:01:25 30.9M\n",
            " 59 5422M   59 3211M    0     0  26.7M      0  0:03:22  0:01:59  0:01:23 31.1M\n",
            " 59 5422M   59 3244M    0     0  26.8M      0  0:03:22  0:02:00  0:01:22 30.8M\n",
            " 60 5422M   60 3277M    0     0  26.8M      0  0:03:21  0:02:01  0:01:20 32.3M\n",
            " 61 5422M   61 3314M    0     0  26.9M      0  0:03:21  0:02:02  0:01:19 35.3M\n",
            " 61 5422M   61 3349M    0     0  27.0M      0  0:03:20  0:02:03  0:01:17 34.5M\n",
            " 62 5422M   62 3384M    0     0  27.0M      0  0:03:20  0:02:04  0:01:16 34.6M\n",
            " 63 5422M   63 3418M    0     0  27.1M      0  0:03:19  0:02:06  0:01:13 34.6M\n",
            " 63 5422M   63 3452M    0     0  27.1M      0  0:03:19  0:02:06  0:01:13 34.9M\n",
            " 64 5422M   64 3489M    0     0  27.2M      0  0:03:18  0:02:07  0:01:11 35.0M\n",
            " 65 5422M   65 3529M    0     0  27.2M      0  0:03:18  0:02:09  0:01:09 33.2M\n",
            " 65 5422M   65 3546M    0     0  27.2M      0  0:03:18  0:02:09  0:01:09 32.3M\n",
            " 65 5422M   65 3556M    0     0  27.1M      0  0:03:19  0:02:10  0:01:09 27.7M\n",
            " 65 5422M   65 3577M    0     0  27.0M      0  0:03:20  0:02:12  0:01:08 23.8M\n",
            " 66 5422M   66 3587M    0     0  26.9M      0  0:03:20  0:02:12  0:01:08 19.5M\n",
            " 66 5422M   66 3607M    0     0  26.9M      0  0:03:21  0:02:13  0:01:08 16.9M\n",
            " 67 5422M   67 3635M    0     0  26.9M      0  0:03:21  0:02:14  0:01:07 17.7M\n",
            " 67 5422M   67 3673M    0     0  27.0M      0  0:03:20  0:02:15  0:01:05 23.5M\n",
            " 68 5422M   68 3705M    0     0  27.0M      0  0:03:20  0:02:16  0:01:04 26.9M\n",
            " 68 5422M   68 3737M    0     0  27.0M      0  0:03:20  0:02:17  0:01:03 29.9M\n",
            " 69 5422M   69 3771M    0     0  27.1M      0  0:03:19  0:02:18  0:01:01 32.7M\n",
            " 70 5422M   70 3805M    0     0  27.1M      0  0:03:19  0:02:19  0:01:00 34.2M\n",
            " 70 5422M   70 3838M    0     0  27.2M      0  0:03:19  0:02:20  0:00:59 32.9M\n",
            " 71 5422M   71 3863M    0     0  27.2M      0  0:03:19  0:02:21  0:00:58 31.4M\n",
            " 71 5422M   71 3884M    0     0  27.1M      0  0:03:19  0:02:23  0:00:56 28.7M\n",
            " 71 5422M   71 3897M    0     0  27.0M      0  0:03:20  0:02:23  0:00:57 25.2M\n",
            " 72 5422M   72 3923M    0     0  27.0M      0  0:03:20  0:02:25  0:00:55 22.1M\n",
            " 72 5422M   72 3932M    0     0  26.9M      0  0:03:21  0:02:25  0:00:56 18.8M\n",
            " 72 5422M   72 3954M    0     0  26.8M      0  0:03:21  0:02:27  0:00:54 17.6M\n",
            " 73 5422M   73 3963M    0     0  26.7M      0  0:03:22  0:02:27  0:00:55 16.2M\n",
            " 73 5422M   73 3983M    0     0  26.7M      0  0:03:22  0:02:28  0:00:54 17.2M\n",
            " 73 5422M   73 3997M    0     0  26.6M      0  0:03:23  0:02:29  0:00:54 15.7M\n",
            " 74 5422M   74 4027M    0     0  26.6M      0  0:03:23  0:02:30  0:00:53 18.9M\n",
            " 74 5422M   74 4053M    0     0  26.6M      0  0:03:23  0:02:32  0:00:51 20.2M\n",
            " 75 5422M   75 4087M    0     0  26.7M      0  0:03:22  0:02:32  0:00:50 24.8M\n",
            " 75 5422M   75 4120M    0     0  26.7M      0  0:03:22  0:02:33  0:00:49 27.2M\n",
            " 76 5422M   76 4153M    0     0  26.8M      0  0:03:22  0:02:34  0:00:48 31.2M\n",
            " 77 5422M   77 4186M    0     0  26.8M      0  0:03:22  0:02:35  0:00:47 31.7M\n",
            " 77 5422M   77 4221M    0     0  26.8M      0  0:03:21  0:02:37  0:00:44 33.7M\n",
            " 78 5422M   78 4257M    0     0  26.9M      0  0:03:21  0:02:37  0:00:44 34.0M\n",
            " 78 5422M   78 4283M    0     0  26.9M      0  0:03:21  0:02:38  0:00:43 32.6M\n",
            " 79 5422M   79 4314M    0     0  26.9M      0  0:03:21  0:02:39  0:00:42 32.1M\n",
            " 80 5422M   80 4341M    0     0  26.9M      0  0:03:21  0:02:40  0:00:41 30.9M\n",
            " 80 5422M   80 4366M    0     0  26.9M      0  0:03:21  0:02:41  0:00:40 29.0M\n",
            " 81 5422M   81 4396M    0     0  26.9M      0  0:03:20  0:02:42  0:00:38 27.7M\n",
            " 81 5422M   81 4428M    0     0  27.0M      0  0:03:20  0:02:43  0:00:37 28.9M\n",
            " 82 5422M   82 4457M    0     0  27.0M      0  0:03:20  0:02:44  0:00:36 28.5M\n",
            " 82 5422M   82 4485M    0     0  27.0M      0  0:03:20  0:02:46  0:00:34 28.6M\n",
            " 83 5422M   83 4514M    0     0  27.0M      0  0:03:20  0:02:46  0:00:34 29.6M\n",
            " 83 5422M   83 4545M    0     0  27.0M      0  0:03:20  0:02:47  0:00:33 29.7M\n",
            " 84 5422M   84 4572M    0     0  27.0M      0  0:03:20  0:02:49  0:00:31 28.6M\n",
            " 84 5422M   84 4600M    0     0  27.0M      0  0:03:20  0:02:50  0:00:30 28.3M\n",
            " 85 5422M   85 4630M    0     0  27.0M      0  0:03:20  0:02:50  0:00:30 29.1M\n",
            " 86 5422M   86 4665M    0     0  27.1M      0  0:03:19  0:02:52  0:00:27 30.0M\n",
            " 86 5422M   86 4701M    0     0  27.1M      0  0:03:19  0:02:52  0:00:27 31.2M\n",
            " 87 5422M   87 4725M    0     0  27.1M      0  0:03:19  0:02:53  0:00:26 30.8M\n",
            " 87 5422M   87 4757M    0     0  27.1M      0  0:03:19  0:02:54  0:00:25 31.6M\n",
            " 88 5422M   88 4785M    0     0  27.1M      0  0:03:19  0:02:55  0:00:24 31.0M\n",
            " 88 5422M   88 4812M    0     0  27.1M      0  0:03:19  0:02:57  0:00:22 29.3M\n",
            " 89 5422M   89 4842M    0     0  27.1M      0  0:03:19  0:02:58  0:00:21 27.8M\n",
            " 89 5422M   89 4869M    0     0  27.2M      0  0:03:19  0:02:58  0:00:21 28.7M\n",
            " 90 5422M   90 4903M    0     0  27.2M      0  0:03:19  0:02:59  0:00:20 29.2M\n",
            " 91 5422M   91 4934M    0     0  27.2M      0  0:03:18  0:03:00  0:00:18 29.9M\n",
            " 91 5422M   91 4966M    0     0  27.2M      0  0:03:18  0:03:01  0:00:17 30.9M\n",
            " 92 5422M   92 5004M    0     0  27.3M      0  0:03:18  0:03:02  0:00:16 32.8M\n",
            " 92 5422M   92 5038M    0     0  27.3M      0  0:03:17  0:03:03  0:00:14 33.8M\n",
            " 93 5422M   93 5071M    0     0  27.4M      0  0:03:17  0:03:04  0:00:13 33.5M\n",
            " 93 5422M   93 5081M    0     0  27.3M      0  0:03:18  0:03:06  0:00:12 29.1M\n",
            " 94 5422M   94 5103M    0     0  27.2M      0  0:03:18  0:03:07  0:00:11 27.3M\n",
            " 94 5422M   94 5137M    0     0  27.3M      0  0:03:18  0:03:07  0:00:11 26.5M\n",
            " 95 5422M   95 5167M    0     0  27.3M      0  0:03:18  0:03:09  0:00:09 24.6M\n",
            " 95 5422M   95 5196M    0     0  27.3M      0  0:03:18  0:03:09  0:00:09 25.1M\n",
            " 96 5422M   96 5225M    0     0  27.3M      0  0:03:18  0:03:10  0:00:08 28.9M\n",
            " 96 5422M   96 5251M    0     0  27.3M      0  0:03:18  0:03:11  0:00:07 29.8M\n",
            " 97 5422M   97 5278M    0     0  27.3M      0  0:03:18  0:03:12  0:00:06 28.1M\n",
            " 97 5422M   97 5298M    0     0  27.3M      0  0:03:18  0:03:13  0:00:05 27.4M\n",
            " 98 5422M   98 5323M    0     0  27.3M      0  0:03:18  0:03:14  0:00:04 25.3M\n",
            " 98 5422M   98 5346M    0     0  27.2M      0  0:03:18  0:03:15  0:00:03 24.1M\n",
            " 99 5422M   99 5380M    0     0  27.3M      0  0:03:18  0:03:16  0:00:02 25.7M\n",
            " 99 5422M   99 5403M    0     0  27.2M      0  0:03:18  0:03:17  0:00:01 25.1M\n",
            "100 5422M  100 5422M    0     0  27.3M      0  0:03:18  0:03:18 --:--:-- 27.4M\n"
          ]
        }
      ],
      "source": [
        "!curl -O https://dl.fbaipublicfiles.com/fasttext/vectors-aligned/wiki.es.align.vec\n",
        "!curl -O https://dl.fbaipublicfiles.com/fasttext/vectors-aligned/wiki.en.align.vec"
      ]
    },
    {
      "cell_type": "code",
      "execution_count": 10,
      "metadata": {
        "colab": {
          "base_uri": "https://localhost:8080/",
          "height": 332
        },
        "id": "pIWt-2lKBDGq",
        "outputId": "a538ad0f-468c-4701-9b66-d5f4efdde651"
      },
      "outputs": [
        {
          "name": "stdout",
          "output_type": "stream",
          "text": [
            "2519370\n",
            "[[-0.0113 -0.0021 -0.0515 ...  0.0436 -0.0077  0.0724]\n",
            " [-0.0469 -0.0006 -0.0751 ...  0.0268 -0.0514  0.0166]\n",
            " [-0.0324 -0.0462 -0.0087 ...  0.0827 -0.065   0.0176]\n",
            " ...\n",
            " [-0.0012 -0.0307  0.0196 ...  0.0479  0.1686 -0.0195]\n",
            " [ 0.0188 -0.0376 -0.1753 ...  0.0256  0.0972  0.0081]\n",
            " [-0.0514  0.0136 -0.044  ...  0.1164 -0.0248  0.0472]]\n"
          ]
        }
      ],
      "source": [
        "en_words = {}\n",
        "en_emb = None\n",
        "\n",
        "with open(\"wiki.en.align.vec\", encoding=\"latin-1\") as fp:\n",
        "  i = 0\n",
        "  for line in fp.readlines():\n",
        "    line_l = line.split(' ')\n",
        "    if i == 0:\n",
        "      en_emb = np.zeros((int(line_l[0]), int(line_l[1])))\n",
        "    else:\n",
        "      en_words[line_l[0]] = i - 1\n",
        "      en_emb[i - 1, :] = np.array([float(d) for d in line_l[1:]])\n",
        "    i += 1\n",
        "\n",
        "print(len(en_words))\n",
        "print(en_emb)"
      ]
    },
    {
      "cell_type": "code",
      "execution_count": 11,
      "metadata": {
        "id": "d710DkrhBDGq"
      },
      "outputs": [
        {
          "name": "stdout",
          "output_type": "stream",
          "text": [
            "985667\n",
            "[[ 0.0338 -0.0584  0.0784 ...  0.0092 -0.051  -0.0808]\n",
            " [-0.0613  0.0566  0.077  ... -0.074  -0.0354 -0.0416]\n",
            " [ 0.0233  0.0479  0.0711 ... -0.0659 -0.0843 -0.037 ]\n",
            " ...\n",
            " [ 0.0509  0.0717 -0.0347 ... -0.09    0.0931 -0.0506]\n",
            " [-0.0424 -0.0316 -0.0213 ... -0.0162  0.0162 -0.0373]\n",
            " [ 0.0173 -0.0229 -0.019  ... -0.0187 -0.0763  0.0612]]\n"
          ]
        }
      ],
      "source": [
        "es_words = {}\n",
        "es_emb = None\n",
        "\n",
        "with open(\"wiki.es.align.vec\", encoding=\"latin-1\") as fp:\n",
        "  i = 0\n",
        "  for line in fp.readlines():\n",
        "    line_l = line.split(' ')\n",
        "    if i == 0:\n",
        "      es_emb = np.zeros((int(line_l[0]), int(line_l[1])))\n",
        "    else:\n",
        "      es_words[line_l[0]] = i - 1\n",
        "      es_emb[i - 1, :] = np.array([float(d) for d in line_l[1:]])\n",
        "    i += 1\n",
        "\n",
        "print(len(es_words))\n",
        "print(es_emb)"
      ]
    },
    {
      "cell_type": "code",
      "execution_count": 12,
      "metadata": {
        "id": "_Of-MCBCBDGq"
      },
      "outputs": [],
      "source": [
        "np.save(\"en_emb\", en_emb)\n",
        "np.save(\"es_emb\", es_emb)\n",
        "\n",
        "with open('en_words.pickle', 'wb') as fp:\n",
        "    pickle.dump(en_words, fp, protocol=pickle.HIGHEST_PROTOCOL)\n",
        "\n",
        "with open('es_words.pickle', 'wb') as fp:\n",
        "    pickle.dump(es_words, fp, protocol=pickle.HIGHEST_PROTOCOL)"
      ]
    },
    {
      "cell_type": "markdown",
      "metadata": {
        "id": "XV0blJzEBDGq"
      },
      "source": [
        "Para evitar ejecutar esto (no corre en colab si no tienes la versión pro, por falta de RAM), puede descargar directamente los archivos ya transformados [desde mi espacio de *One Drive* de la Universidad de Sonora](https://unisonmx-my.sharepoint.com/:f:/g/personal/julio_waissman_unison_mx/EhtLxLcVuZFHizfT3bFR8zABKw7Lxz3Bow8JtoRwl1NtQA?e=C6Bx6L).\n",
        "\n",
        "No hay manera sencilla de automatizar la descarga de *One Drive*, así que los tendrás que bajar a mano y ponerlos en el mismo repositorio donde estás ejecutando la libreta. Con todo es la forma más rápida.\n",
        "\n",
        "Si tienes los archivos `npz` y `pickle` correspondientes, entonces simplemente:"
      ]
    },
    {
      "cell_type": "code",
      "execution_count": 13,
      "metadata": {
        "id": "o9NM7ObFBDGq"
      },
      "outputs": [
        {
          "name": "stdout",
          "output_type": "stream",
          "text": [
            "La forma de en_emb es un ndarray de forma (2519370, 300)\n",
            "La forma de es_emb es un ndarray de forma (985667, 300)\n",
            "es_words es un diccionario de dimensión 985667 cuyas claves son indices y los valores tokens\n",
            "es_words es un diccionario de dimensión 2519370 cuyas claves son indices y los valores tokens\n"
          ]
        }
      ],
      "source": [
        "# Carga los diccionarios word2idxs\n",
        "with open('en_words.pickle', 'rb') as fp:\n",
        "    en_words = pickle.load(fp)\n",
        "\n",
        "with open('es_words.pickle', 'rb') as fp:\n",
        "    es_words = pickle.load(fp)\n",
        "\n",
        "with open('en_emb.npy', 'rb') as fp:\n",
        "    en_emb = np.load(fp)\n",
        "\n",
        "with open('es_emb.npy', 'rb') as fp:\n",
        "    es_emb = np.load(fp)\n",
        "\n",
        "print(f\"La forma de en_emb es un ndarray de forma {en_emb.shape}\")\n",
        "print(f\"La forma de es_emb es un ndarray de forma {es_emb.shape}\")\n",
        "print(f\"es_words es un diccionario de dimensión {len(es_emb)} cuyas claves son indices y los valores tokens\")\n",
        "print(f\"es_words es un diccionario de dimensión {len(en_emb)} cuyas claves son indices y los valores tokens\")\n"
      ]
    },
    {
      "cell_type": "markdown",
      "metadata": {
        "id": "ONNq7Ek5BDGr"
      },
      "source": [
        "### Preprocesamiento de datos\n",
        "\n",
        "Vamos a usar una función para convertir una sentencia a una lista de tokens (palabras), y otra para convertir los tokens en embeddings, de acuerdo al embedding e indice elegido."
      ]
    },
    {
      "cell_type": "code",
      "execution_count": 14,
      "metadata": {
        "id": "dZ4JlQv_BDGr"
      },
      "outputs": [],
      "source": [
        "def tokenize(sentence, token_mapping):\n",
        "    tokenized = []\n",
        "\n",
        "    for word in sentence.lower().split(\" \"):\n",
        "        tokenized.append(token_mapping.get(word, -1))\n",
        "\n",
        "    return tokenized\n",
        "\n",
        "def embed(tokens, embeddings):\n",
        "    embed_size = embeddings.shape[1]\n",
        "\n",
        "    output = np.zeros((len(tokens), embed_size))\n",
        "    for i, token in enumerate(tokens):\n",
        "        if token == -1:\n",
        "            output[i] = np.zeros((1, embed_size))\n",
        "        else:\n",
        "            output[i] = embeddings[token]\n",
        "\n",
        "    return output"
      ]
    },
    {
      "cell_type": "markdown",
      "metadata": {
        "id": "UsMdF23pBDGr"
      },
      "source": [
        "### El mecanismo de atención tipo QKV\n",
        "\n",
        "La atención por producto punto escalado consiste en dos multiplicaciones de matrices y una escala softmax, como se muestra en el diagrama a continuación de [Vaswani, et al. (2017)](https://arxiv.org/abs/1706.03762). Toma tres matrices de entrada: las consultas (queries), las claves (keys) y los valores (values).\n",
        "\n",
        "![attention.png](attachment:attention.png)\n",
        "\n",
        "Matemáticamente, esto se expresa como\n",
        "\n",
        "$$\n",
        "\\large \\mathrm{Atención}\\left(Q, K, V\\right) = \\mathrm{softmax}\\left(\\frac{QK^{\\top}}{\\sqrt{d_k}}\\right)V\n",
        "$$\n",
        "\n",
        "donde $Q$, $K$ y $V$ son las matrices de consultas (query), claves (key) y valores (values) respectivamente, y $d_k$ es la dimensión de las claves. En la práctica, Q, K y V tienen todas las mismas dimensiones. Esta forma de atención es más rápida y eficiente en espacio, ya que consta solo de multiplicaciones de matrices en lugar de una capa de alimentación adelante aprendida.\n",
        "\n",
        "Conceptualmente, la primera multiplicación de matrices es una medida de la similitud entre las consultas y las claves. Esto se transforma en pesos usando la función softmax. Estos pesos luego se aplican a los valores con la segunda multiplicación de matrices, lo que da como resultado vectores de atención de salida.\n",
        "\n",
        "Típicamente, los estados del decodificador se utilizan como consultas mientras que los estados del codificador son las claves y los valores.\n",
        "\n",
        "Para ilustrar como funciona, vamos a calcular las relaciones de pesos entre secuencia de encoder y decoder (relación entre consultas y llaves) antes de calcular los pesos:  "
      ]
    },
    {
      "cell_type": "code",
      "execution_count": 15,
      "metadata": {
        "id": "0yQSu0JYBDGr"
      },
      "outputs": [],
      "source": [
        "def calculate_weights(queries, keys):\n",
        "    \"\"\" Calculate the weights for scaled dot-product attention\"\"\"\n",
        "    # Replace None with your code.\n",
        "    dot = queries @ keys.T / np.sqrt(keys.shape[1])\n",
        "    weights = softmax(dot, axis=1)\n",
        "\n",
        "    return weights"
      ]
    },
    {
      "cell_type": "markdown",
      "metadata": {
        "id": "_MCbPiBkBDGs"
      },
      "source": [
        "Y vamos probando con un ejemplo la relacion entre la secuencia de entrada al encoder y de salida del decoder."
      ]
    },
    {
      "cell_type": "code",
      "execution_count": 16,
      "metadata": {
        "id": "eN157SN1BDGs"
      },
      "outputs": [
        {
          "data": {
            "image/png": "[encoded data removed]",
            "text/plain": [
              "<Figure size 700x700 with 1 Axes>"
            ]
          },
          "metadata": {},
          "output_type": "display_data"
        }
      ],
      "source": [
        "sentence_en = \"The agreement on the European Economic Area was signed in August 1992 .\"\n",
        "tokenized_en = tokenize(sentence_en, en_words)\n",
        "embedded_en = embed(tokenized_en, en_emb)\n",
        "\n",
        "sentence_es = \"El acuerdo sobre la zona económica europea fue firmada en agosto 1992 .\"\n",
        "tokenized_es = tokenize(sentence_es, es_words)\n",
        "embedded_es = embed(tokenized_es, es_emb)\n",
        "\n",
        "# These weights indicate alignment between words in English and French\n",
        "alignment = calculate_weights(embedded_es, embedded_en)\n",
        "\n",
        "# Visualize weights to check for alignment\n",
        "fig, ax = plt.subplots(figsize=(7,7))\n",
        "ax.imshow(alignment, cmap='gray')\n",
        "ax.xaxis.tick_top()\n",
        "ax.set_xticks(np.arange(alignment.shape[1]))\n",
        "ax.set_xticklabels(sentence_en.split(\" \"), rotation=90, size=16);\n",
        "ax.set_yticks(np.arange(alignment.shape[0]));\n",
        "ax.set_yticklabels(sentence_es.split(\" \"), size=16);"
      ]
    },
    {
      "cell_type": "markdown",
      "metadata": {
        "id": "ar9wM8L8BDGs"
      },
      "source": [
        "Y ahora si podemos ver como se reparten los pesos"
      ]
    },
    {
      "cell_type": "code",
      "execution_count": 17,
      "metadata": {
        "id": "CyHtrIHABDGs"
      },
      "outputs": [
        {
          "name": "stdout",
          "output_type": "stream",
          "text": [
            "La dimensión de los pesos obtenidos con attention_qkv es: (13, 300)\n",
            "Algunos elementos de la salida de pesos son:\n",
            "[[-0.04037779 -0.0027815   0.00388189  0.04846592 -0.02474694  0.01430893\n",
            "  -0.00369957 -0.06196908 -0.00209186  0.01616049]\n",
            " [-0.04073056 -0.00254163  0.0040451   0.04833635 -0.0248024   0.01443108\n",
            "  -0.00357381 -0.06198144 -0.00232641  0.01589609]]\n"
          ]
        }
      ],
      "source": [
        "def attention_qkv(queries, keys, values):\n",
        "    return calculate_weights(queries, keys) @ values\n",
        "\n",
        "\n",
        "attention_qkv_result = attention_qkv(embedded_es, embedded_en, embedded_en)\n",
        "\n",
        "print(f\"La dimensión de los pesos obtenidos con attention_qkv es: {attention_qkv_result.shape}\")\n",
        "\n",
        "print(f\"Algunos elementos de la salida de pesos son:\\n{attention_qkv_result[0:2,:10]}\")"
      ]
    }
  ],
  "metadata": {
    "colab": {
      "provenance": []
    },
    "kernelspec": {
      "display_name": "Python 3",
      "name": "python3"
    },
    "language_info": {
      "codemirror_mode": {
        "name": "ipython",
        "version": 3
      },
      "file_extension": ".py",
      "mimetype": "text/x-python",
      "name": "python",
      "nbconvert_exporter": "python",
      "pygments_lexer": "ipython3",
      "version": "3.11.3"
    }
  },
  "nbformat": 4,
  "nbformat_minor": 0
}
