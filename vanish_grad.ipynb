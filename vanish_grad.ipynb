{
  "cells": [
    {
      "cell_type": "markdown",
      "metadata": {
        "id": "Lrj7ZZd2pumu"
      },
      "source": [
        "<center>\n",
        "<p><img src=\"https://mcd.unison.mx/wp-content/themes/awaken/img/logo_mcd.png\" width=\"150\">\n",
        "</p>\n",
        "\n",
        "\n",
        "\n",
        "<h1>Curso Procesamiento de Lenguaje Natural</h1>\n",
        "\n",
        "<h3>El problema del gradiente en las RNN vainilla</h3>\n",
        "\n",
        "\n",
        "<p> Julio Waissman Vilanova </p>\n",
        "<p>\n",
        "<img src=\"https://identidadbuho.unison.mx/wp-content/uploads/2019/06/letragrama-cmyk-72.jpg\" width=\"150\">\n",
        "</p>\n",
        "\n",
        "\n",
        "<a target=\"_blank\" href=\"https://colab.research.google.com/github/mcd-unison/pln/blob/main/labs/RNN/vanish-grad.ipynb\"><img src=\"https://i.ibb.co/2P3SLwK/colab.png\"  style=\"padding-bottom:5px;\"  width=\"30\" /> Ejecuta en Colab</a>\n",
        "\n",
        "<p>\n",
        "Tomado de libretas la libreta <i>C3_W3_Lecture_Notebook_Vanishing_Gradients.ipynb</i> de la  <i>Especialización en procesamiento de lenguaje natural</i> de <i>Deeplearning.ai</i>, disponible en <i>Coursera</i>.\n",
        "</p>\n",
        "\n",
        "\n",
        "</center>"
      ]
    },
    {
      "cell_type": "markdown",
      "metadata": {
        "id": "pJtIIlz_pumw"
      },
      "source": [
        "\n",
        "## Background\n",
        "Vanilla RNNs are prone to vanishing and exploding gradients when dealing with long sequences. Recall that the gradient with respect to $W_h$ is proportional to a sum of products:\n",
        "\n",
        "$$\\frac{\\delta L}{\\delta W_h} \\propto \\sum_{1\\le k\\le t} \\left(\\prod_{t\\ge i>k} \\frac{\\delta h_i}{\\delta h_{i-1}}\\right)\\frac{\\delta h_k}{\\delta W_h}$$\n",
        "\n",
        "where, for step $k$ far away from the place where the loss is computed ($t$), the product\n",
        "\n",
        "$$\\prod_{t\\ge i>k} \\frac{\\delta h_i}{\\delta h_{i-1}}$$\n",
        "\n",
        "can either go to 0 or infinity depending on the values of the partial derivative of the hidden state $\\frac{\\delta h_i}{\\delta h_{i-1}}$. In this ungraded lab, you will take a closer look at the partial derivative of the hidden state, and I'll show you how gradient problems arise when dealing with long sequences in vanilla RNNs.\n",
        "\n",
        "## Imports"
      ]
    },
    {
      "cell_type": "code",
      "execution_count": null,
      "metadata": {
        "tags": [],
        "id": "UW2njq9Ypumx"
      },
      "outputs": [],
      "source": [
        "import numpy as np\n",
        "import matplotlib.pyplot as plt\n",
        "import ipywidgets as widgets\n",
        "from ipywidgets import interact, interactive, fixed, interact_manual\n",
        "\n",
        "%matplotlib inline"
      ]
    },
    {
      "cell_type": "markdown",
      "metadata": {
        "id": "ArZ3wE3Bpumx"
      },
      "source": [
        "## Activations & Partial Derivative\n",
        "\n",
        "### Partial Derivative\n",
        "Recall that the hidden state at step $i$ is defined as:\n",
        "\n",
        "$$h_i= \\sigma(W_{hh} h_{i-1} + W_{hx} x_i + b_h)$$\n",
        "\n",
        "where $\\sigma$ is an activation function (usually sigmoid). So, you can use the chain rule to get the partial derivative:\n",
        "\n",
        "$$\\frac{\\delta h_i}{\\delta h_{i-1}} = W_{hh}^T \\text{diag} (\\sigma'(W_{hh} h_{i-1} + W_{hx} x_i + b_h))$$\n",
        "\n",
        "$W_h^T$ is the transpose of the weight matrix, and $\\sigma'$ is the gradient of the activation function. The gradient of the activation function is a vector of size equal to the hidden state size, and the $\\text{diag}$ converts that vector into a diagonal matrix. You <strong>don't have to worry about the calculus</strong> behind this derivative, and you only need to be familiar with the form it takes.  \n",
        "\n",
        "### Vanishing and Exploding Gradient Conditions\n",
        "\n",
        "When the product\n",
        "\n",
        "$$\\prod_{t\\ge i > k} \\frac{\\partial h_i}{\\partial h_{i-1}} = \\prod_{t\\ge i > k} W_{hh}^T \\text{diag} (\\sigma'(W_{hh} h_{i-1} + W_{hx} x_i + b_h))$$\n",
        "\n",
        "approaches 0, you face vanishing gradient problems where the contribution of item $k$ in the sequence is neglected. Conversely, when the product approaches infinity you will face exploding gradients and convergence problems arise. For that product approaching either of those values, two conditions need to be met:\n",
        "\n",
        "<ol>\n",
        "<li> Derivative of the activation function is bounded by some value $\\alpha$ </li>\n",
        "<li> The absolute value of the largest eigenvalue of the weight matrix $W_{hh}$ is lower than $\\frac{1}{\\alpha}$ (sufficient condition for vanishing gradient), or greater than $\\frac{1}{\\alpha}$ (necessary condition for exploding gradient).</li>\n",
        "</ol>\n",
        "\n",
        "### Activation\n",
        "\n",
        "So let's check the first condition for the sigmoid function. Run the cell below to get an interactive plot of the sigmoid function and its derivative at different points. Feel free to change the argument values to check if the derivative is bounded or not."
      ]
    },
    {
      "cell_type": "code",
      "execution_count": null,
      "metadata": {
        "id": "U6igS1NQpumy",
        "colab": {
          "base_uri": "https://localhost:8080/",
          "height": 607,
          "referenced_widgets": [
            "eefd8fc24171466991993ce2375eba6b",
            "b0ee6745e1d64429aa7f1ea094a714ea",
            "a571b88269a74964a5dfa074b83ab108",
            "2166e4664c474cb99acd28cad4601b05",
            "5d4c6ffe248c4deea5c65405633d0feb",
            "6cb9f6f755ad48b5a1c42e4e7280e54d",
            "e423a308c9614493b2a728e23dfb5478"
          ]
        },
        "outputId": "f4ff2cf9-c1f4-40ce-acd5-8ae0bab82054"
      },
      "outputs": [
        {
          "output_type": "display_data",
          "data": {
            "text/plain": [
              "interactive(children=(FloatSlider(value=0.0, description='x_tan', max=6.0, min=-6.0, step=0.5), Output()), _do…"
            ],
            "application/vnd.jupyter.widget-view+json": {
              "version_major": 2,
              "version_minor": 0,
              "model_id": "eefd8fc24171466991993ce2375eba6b"
            }
          },
          "metadata": {}
        },
        {
          "output_type": "execute_result",
          "data": {
            "text/plain": [
              "<function __main__.plot_func(x_tan=0)>"
            ],
            "text/html": [
              "<div style=\"max-width:800px; border: 1px solid var(--colab-border-color);\"><style>\n",
              "      pre.function-repr-contents {\n",
              "        overflow-x: auto;\n",
              "        padding: 8px 12px;\n",
              "        max-height: 500px;\n",
              "      }\n",
              "\n",
              "      pre.function-repr-contents.function-repr-contents-collapsed {\n",
              "        cursor: pointer;\n",
              "        max-height: 100px;\n",
              "      }\n",
              "    </style>\n",
              "    <pre style=\"white-space: initial; background:\n",
              "         var(--colab-secondary-surface-color); padding: 8px 12px;\n",
              "         border-bottom: 1px solid var(--colab-border-color);\"><b>plot_func</b><br/>def plot_func(x_tan=0)</pre><pre class=\"function-repr-contents function-repr-contents-collapsed\" style=\"\"><a class=\"filepath\" style=\"display:none\" href=\"#\">/content/&lt;ipython-input-2-a381993ba595&gt;</a>&lt;no docstring&gt;</pre></div>"
            ]
          },
          "metadata": {},
          "execution_count": 2
        }
      ],
      "source": [
        "# Data\n",
        "\n",
        "### START CODE HERE ###\n",
        "x = np.linspace(-6, 6, 100)  # try changing the range of values in the data. eg: (-100,100,1000)\n",
        "### END CODE HERE ###\n",
        "# Activation\n",
        "# Interval [0, 1]\n",
        "def sigmoid(x):\n",
        "    return 1 / (1 + np.exp(-x))\n",
        "\n",
        "activations = sigmoid(x)\n",
        "\n",
        "# Gradient\n",
        "# Interval [0, 0.25]\n",
        "def sigmoid_gradient(x):\n",
        "    return sigmoid(x) * (1 - sigmoid(x))\n",
        "\n",
        "# Add the tangent line\n",
        "def plot_func(x_tan = 0):\n",
        "    plt.plot(x, activations)\n",
        "    plt.title(\"Sigmoid Function and Gradient\")\n",
        "    plt.xlabel(\"$x$\")\n",
        "    plt.ylabel(\"sigmoid($x$)\")\n",
        "    plt.text(x_tan, sigmoid(x_tan), f\"Gradient: {sigmoid_gradient(x_tan):.4f}\")\n",
        "    plt.xlim((-6,6))\n",
        "    plt.ylim((-0.5,1.5))\n",
        "    plt.rcParams['figure.figsize'] = [7, 5]\n",
        "    y_tan = sigmoid(x_tan)  # y value\n",
        "    span = 4 # line span along x axis\n",
        "    data_tan = np.linspace(x_tan - span, x_tan + span)  # x values to plot\n",
        "    gradient_tan = sigmoid_gradient(x_tan)     # gradient of the tangent\n",
        "    tan = y_tan + gradient_tan * (data_tan - x_tan)     # y values to plot\n",
        "    plt.plot(x_tan, y_tan, marker=\"o\", color=\"orange\", label=True)  # marker\n",
        "    plt.plot(data_tan, tan, linestyle=\"--\", color=\"orange\")         # line\n",
        "    plt.show()\n",
        "\n",
        "interact(plot_func, x_tan = widgets.FloatSlider(value=0,\n",
        "                                            min=-6,\n",
        "                                            max=6,\n",
        "                                            step=0.5))"
      ]
    },
    {
      "cell_type": "markdown",
      "metadata": {
        "id": "wVD_hZd4pumy"
      },
      "source": [
        "As you checked, the derivative of the sigmoid function is bounded by $\\alpha=\\frac{1}{4}$. So vanishing gradient problems will arise for long-term components if the largest eigenvalue of $W_{hh}$ is lower than 4, and exploding gradient problems will happen if the largest eigenvalue is larger than 4."
      ]
    },
    {
      "cell_type": "markdown",
      "metadata": {
        "id": "97E4Q2M_pumz"
      },
      "source": [
        "## Vanishing Gradient with Sigmoid Activation"
      ]
    },
    {
      "cell_type": "markdown",
      "metadata": {
        "id": "9Cxracgypumz"
      },
      "source": [
        "Let's generate a random checkpoint for an RNN model and assume that the sequences are of length $t=20$:"
      ]
    },
    {
      "cell_type": "code",
      "execution_count": null,
      "metadata": {
        "id": "TstrYrCkpumz"
      },
      "outputs": [],
      "source": [
        "np.random.seed(12345)\n",
        "t = 20\n",
        "h = np.random.randn(5,t)\n",
        "x = np.random.randn(5,t)"
      ]
    },
    {
      "cell_type": "code",
      "execution_count": null,
      "metadata": {
        "id": "DGklK60Wpumz"
      },
      "outputs": [],
      "source": [
        "b_h = np.random.randn(5,1)\n",
        "W_hx = np.random.randn(5,5)"
      ]
    },
    {
      "cell_type": "markdown",
      "metadata": {
        "id": "YI8woZxupum0"
      },
      "source": [
        "In the next cell, you will create a random matrix $W_{hh}$ with eigenvalues lower than four."
      ]
    },
    {
      "cell_type": "code",
      "execution_count": null,
      "metadata": {
        "id": "7AQMA4r9pum0"
      },
      "outputs": [],
      "source": [
        "eig = np.random.rand(5) * 4 #Random eigenvalues lower than 4\n",
        "Q = np.random.randn(5,5) #Random eigenvectors stacked in matrix Q\n",
        "W_hh = Q @ np.diag(eig) @ np.linalg.inv(Q) #W_hh"
      ]
    },
    {
      "cell_type": "markdown",
      "metadata": {
        "id": "JGVWFbispum0"
      },
      "source": [
        "Finally, let us define the product function for a determined step $k$."
      ]
    },
    {
      "cell_type": "code",
      "execution_count": null,
      "metadata": {
        "id": "Gw5yrjg9pum0"
      },
      "outputs": [],
      "source": [
        "def prod(k):\n",
        "    p = 1\n",
        "    for i in range(t-1, k-2, -1):\n",
        "        p *= W_hh.T @ np.diag(sigmoid_gradient(W_hh@h[:,i] + W_hx@x[:,i] + b_h))\n",
        "    return p"
      ]
    },
    {
      "cell_type": "markdown",
      "metadata": {
        "id": "TdYf12Pjpum0"
      },
      "source": [
        "Now, you can plot the contribution to the gradient for different steps $k$."
      ]
    },
    {
      "cell_type": "code",
      "execution_count": null,
      "metadata": {
        "id": "pTZ9wN6npum1",
        "colab": {
          "base_uri": "https://localhost:8080/",
          "height": 489
        },
        "outputId": "a178a81b-9835-4a16-c2d8-a1983c4df1ae"
      },
      "outputs": [
        {
          "output_type": "display_data",
          "data": {
            "text/plain": [
              "<Figure size 700x500 with 1 Axes>"
            ],
            "image/png": "[encoded data removed]"
          },
          "metadata": {}
        }
      ],
      "source": [
        "product = np.zeros(20)\n",
        "for k in range(t):\n",
        "    product[k] = np.max(prod(k+1))\n",
        "\n",
        "plt.plot(np.array(range(t))+1, product)\n",
        "plt.title(\"Maximum contribution to the gradient at step $k$\");\n",
        "plt.xlabel(\"k\");\n",
        "plt.ylabel(\"Maximum contribution\");\n",
        "plt.xticks(np.array(range(t))+1);"
      ]
    },
    {
      "cell_type": "markdown",
      "metadata": {
        "id": "ysuNqrwCpum1"
      },
      "source": [
        "With the largest eigenvalue of the weight matrix $W_{hh}$ being lower than 4 --with a sigmoid activation function, the contribution of the early items in the sequence to the gradient go to zero. In practice, this will make your RNN rely only upon the most recent items in the series."
      ]
    },
    {
      "cell_type": "markdown",
      "metadata": {
        "id": "Y5MB_l1epum1"
      },
      "source": [
        "## Exploding Gradient with Sigmoid Activation"
      ]
    },
    {
      "cell_type": "markdown",
      "metadata": {
        "id": "2H-Pkh2upum1"
      },
      "source": [
        "An essential difference with the vanishing gradient problem is that the condition for exploding gradients is necessary but not sufficient. Therefore, it is very likely that you will face vanishing gradients rather than exploding gradient problems. However, let's fabricate an example for exploding gradients."
      ]
    },
    {
      "cell_type": "code",
      "execution_count": null,
      "metadata": {
        "id": "miWBcvq_pum1"
      },
      "outputs": [],
      "source": [
        "np.random.seed(12345)\n",
        "t = 20\n",
        "h = np.zeros((5,t))\n",
        "x = np.zeros((5,t))"
      ]
    },
    {
      "cell_type": "code",
      "execution_count": null,
      "metadata": {
        "id": "A8bee-B0pum1"
      },
      "outputs": [],
      "source": [
        "b_h = np.zeros((5,1))\n",
        "W_hx = np.random.randn(5,5)"
      ]
    },
    {
      "cell_type": "markdown",
      "metadata": {
        "id": "z9ftW-pkpum2"
      },
      "source": [
        "In the next cell, a random matrix $W_{hh}$ with eigenvalues greater than 4 is created"
      ]
    },
    {
      "cell_type": "code",
      "execution_count": null,
      "metadata": {
        "id": "sW-ObWkApum2"
      },
      "outputs": [],
      "source": [
        "eig = 4 + np.random.rand(5)*10 #Random eigenvalues greater than 4\n",
        "Q = np.random.randn(5,5) #Random eigenvectors stacked in matrix Q\n",
        "W_hh = Q@np.diag(eig)@np.linalg.inv(Q) #W_hh"
      ]
    },
    {
      "cell_type": "markdown",
      "metadata": {
        "id": "cz-WrXuTpum2"
      },
      "source": [
        "Now, you can plot the contribution to the gradient for different steps $k$."
      ]
    },
    {
      "cell_type": "code",
      "execution_count": null,
      "metadata": {
        "id": "1KxCvLZbpum2",
        "colab": {
          "base_uri": "https://localhost:8080/",
          "height": 489
        },
        "outputId": "c4bc122a-88b1-4766-8cd2-374d60c3a208"
      },
      "outputs": [
        {
          "output_type": "display_data",
          "data": {
            "text/plain": [
              "<Figure size 700x500 with 1 Axes>"
            ],
            "image/png": "[encoded data removed]"
          },
          "metadata": {}
        }
      ],
      "source": [
        "product = np.zeros(20)\n",
        "for k in range(t):\n",
        "    product[k] = np.max(prod(k+1))\n",
        "\n",
        "plt.plot(np.array(range(t))+1, product)\n",
        "plt.title(\"Maximum contribution to the gradient at step $k$\");\n",
        "plt.xlabel(\"k\");\n",
        "plt.ylabel(\"Maximum contribution\");\n",
        "plt.xticks(np.array(range(t))+1);"
      ]
    },
    {
      "cell_type": "markdown",
      "metadata": {
        "id": "pmjdKBgjpum2"
      },
      "source": [
        "With the largest eigenvalue of the weight matrix $W_{hh}$ being greater than 4 --with a sigmoid activation function, the contribution of the early items in the sequence to the gradient goes to infinity. In practice, this will make you face convergence problems during training."
      ]
    },
    {
      "cell_type": "markdown",
      "metadata": {
        "id": "Gv7g-gBtpum2"
      },
      "source": [
        "Now you are more familiar with the conditions for vanishing and exploding gradient problems. You should take away that for vanishing gradient it is <strong>sufficient</strong> to satisfy an eigenvalue condition, while for the exploding gradient problem it is <strong>neccesary</strong> but not enough. I used the weight matrix $W_{hh}$ in this discussion, but everything exposed here also applies for $W_{hx}$."
      ]
    },
    {
      "cell_type": "markdown",
      "metadata": {
        "id": "ccfn94h3pum3"
      },
      "source": [
        "## Solution\n",
        "One solution is to use RNN architectures specially designed to avoid these problems (like GRUs and LSTMs). Other solutions involve skip-connections or gradient clipping. But those are both discussions for another time."
      ]
    }
  ],
  "metadata": {
    "kernelspec": {
      "display_name": "Python 3",
      "language": "python",
      "name": "python3"
    },
    "language_info": {
      "codemirror_mode": {
        "name": "ipython",
        "version": 3
      },
      "file_extension": ".py",
      "mimetype": "text/x-python",
      "name": "python",
      "nbconvert_exporter": "python",
      "pygments_lexer": "ipython3",
      "version": "3.8.13"
    },
    "colab": {
      "provenance": []
    },
    "widgets": {
      "application/vnd.jupyter.widget-state+json": {
        "eefd8fc24171466991993ce2375eba6b": {
          "model_module": "@jupyter-widgets/controls",
          "model_name": "VBoxModel",
          "model_module_version": "1.5.0",
          "state": {
            "_dom_classes": [
              "widget-interact"
            ],
            "_model_module": "@jupyter-widgets/controls",
            "_model_module_version": "1.5.0",
            "_model_name": "VBoxModel",
            "_view_count": null,
            "_view_module": "@jupyter-widgets/controls",
            "_view_module_version": "1.5.0",
            "_view_name": "VBoxView",
            "box_style": "",
            "children": [
              "IPY_MODEL_b0ee6745e1d64429aa7f1ea094a714ea",
              "IPY_MODEL_a571b88269a74964a5dfa074b83ab108"
            ],
            "layout": "IPY_MODEL_2166e4664c474cb99acd28cad4601b05"
          }
        },
        "b0ee6745e1d64429aa7f1ea094a714ea": {
          "model_module": "@jupyter-widgets/controls",
          "model_name": "FloatSliderModel",
          "model_module_version": "1.5.0",
          "state": {
            "_dom_classes": [],
            "_model_module": "@jupyter-widgets/controls",
            "_model_module_version": "1.5.0",
            "_model_name": "FloatSliderModel",
            "_view_count": null,
            "_view_module": "@jupyter-widgets/controls",
            "_view_module_version": "1.5.0",
            "_view_name": "FloatSliderView",
            "continuous_update": true,
            "description": "x_tan",
            "description_tooltip": null,
            "disabled": false,
            "layout": "IPY_MODEL_5d4c6ffe248c4deea5c65405633d0feb",
            "max": 6,
            "min": -6,
            "orientation": "horizontal",
            "readout": true,
            "readout_format": ".2f",
            "step": 0.5,
            "style": "IPY_MODEL_6cb9f6f755ad48b5a1c42e4e7280e54d",
            "value": 0
          }
        },
        "a571b88269a74964a5dfa074b83ab108": {
          "model_module": "@jupyter-widgets/output",
          "model_name": "OutputModel",
          "model_module_version": "1.0.0",
          "state": {
            "_dom_classes": [],
            "_model_module": "@jupyter-widgets/output",
            "_model_module_version": "1.0.0",
            "_model_name": "OutputModel",
            "_view_count": null,
            "_view_module": "@jupyter-widgets/output",
            "_view_module_version": "1.0.0",
            "_view_name": "OutputView",
            "layout": "IPY_MODEL_e423a308c9614493b2a728e23dfb5478",
            "msg_id": "",
            "outputs": [
              {
                "output_type": "display_data",
                "data": {
                  "text/plain": "<Figure size 700x500 with 1 Axes>",
                  "image/png": "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\n"
                },
                "metadata": {}
              }
            ]
          }
        },
        "2166e4664c474cb99acd28cad4601b05": {
          "model_module": "@jupyter-widgets/base",
          "model_name": "LayoutModel",
          "model_module_version": "1.2.0",
          "state": {
            "_model_module": "@jupyter-widgets/base",
            "_model_module_version": "1.2.0",
            "_model_name": "LayoutModel",
            "_view_count": null,
            "_view_module": "@jupyter-widgets/base",
            "_view_module_version": "1.2.0",
            "_view_name": "LayoutView",
            "align_content": null,
            "align_items": null,
            "align_self": null,
            "border": null,
            "bottom": null,
            "display": null,
            "flex": null,
            "flex_flow": null,
            "grid_area": null,
            "grid_auto_columns": null,
            "grid_auto_flow": null,
            "grid_auto_rows": null,
            "grid_column": null,
            "grid_gap": null,
            "grid_row": null,
            "grid_template_areas": null,
            "grid_template_columns": null,
            "grid_template_rows": null,
            "height": null,
            "justify_content": null,
            "justify_items": null,
            "left": null,
            "margin": null,
            "max_height": null,
            "max_width": null,
            "min_height": null,
            "min_width": null,
            "object_fit": null,
            "object_position": null,
            "order": null,
            "overflow": null,
            "overflow_x": null,
            "overflow_y": null,
            "padding": null,
            "right": null,
            "top": null,
            "visibility": null,
            "width": null
          }
        },
        "5d4c6ffe248c4deea5c65405633d0feb": {
          "model_module": "@jupyter-widgets/base",
          "model_name": "LayoutModel",
          "model_module_version": "1.2.0",
          "state": {
            "_model_module": "@jupyter-widgets/base",
            "_model_module_version": "1.2.0",
            "_model_name": "LayoutModel",
            "_view_count": null,
            "_view_module": "@jupyter-widgets/base",
            "_view_module_version": "1.2.0",
            "_view_name": "LayoutView",
            "align_content": null,
            "align_items": null,
            "align_self": null,
            "border": null,
            "bottom": null,
            "display": null,
            "flex": null,
            "flex_flow": null,
            "grid_area": null,
            "grid_auto_columns": null,
            "grid_auto_flow": null,
            "grid_auto_rows": null,
            "grid_column": null,
            "grid_gap": null,
            "grid_row": null,
            "grid_template_areas": null,
            "grid_template_columns": null,
            "grid_template_rows": null,
            "height": null,
            "justify_content": null,
            "justify_items": null,
            "left": null,
            "margin": null,
            "max_height": null,
            "max_width": null,
            "min_height": null,
            "min_width": null,
            "object_fit": null,
            "object_position": null,
            "order": null,
            "overflow": null,
            "overflow_x": null,
            "overflow_y": null,
            "padding": null,
            "right": null,
            "top": null,
            "visibility": null,
            "width": null
          }
        },
        "6cb9f6f755ad48b5a1c42e4e7280e54d": {
          "model_module": "@jupyter-widgets/controls",
          "model_name": "SliderStyleModel",
          "model_module_version": "1.5.0",
          "state": {
            "_model_module": "@jupyter-widgets/controls",
            "_model_module_version": "1.5.0",
            "_model_name": "SliderStyleModel",
            "_view_count": null,
            "_view_module": "@jupyter-widgets/base",
            "_view_module_version": "1.2.0",
            "_view_name": "StyleView",
            "description_width": "",
            "handle_color": null
          }
        },
        "e423a308c9614493b2a728e23dfb5478": {
          "model_module": "@jupyter-widgets/base",
          "model_name": "LayoutModel",
          "model_module_version": "1.2.0",
          "state": {
            "_model_module": "@jupyter-widgets/base",
            "_model_module_version": "1.2.0",
            "_model_name": "LayoutModel",
            "_view_count": null,
            "_view_module": "@jupyter-widgets/base",
            "_view_module_version": "1.2.0",
            "_view_name": "LayoutView",
            "align_content": null,
            "align_items": null,
            "align_self": null,
            "border": null,
            "bottom": null,
            "display": null,
            "flex": null,
            "flex_flow": null,
            "grid_area": null,
            "grid_auto_columns": null,
            "grid_auto_flow": null,
            "grid_auto_rows": null,
            "grid_column": null,
            "grid_gap": null,
            "grid_row": null,
            "grid_template_areas": null,
            "grid_template_columns": null,
            "grid_template_rows": null,
            "height": null,
            "justify_content": null,
            "justify_items": null,
            "left": null,
            "margin": null,
            "max_height": null,
            "max_width": null,
            "min_height": null,
            "min_width": null,
            "object_fit": null,
            "object_position": null,
            "order": null,
            "overflow": null,
            "overflow_x": null,
            "overflow_y": null,
            "padding": null,
            "right": null,
            "top": null,
            "visibility": null,
            "width": null
          }
        }
      }
    }
  },
  "nbformat": 4,
  "nbformat_minor": 0
}